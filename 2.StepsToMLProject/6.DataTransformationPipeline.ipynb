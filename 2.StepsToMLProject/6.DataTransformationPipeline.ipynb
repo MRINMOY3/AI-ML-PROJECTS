{
 "cells": [
  {
   "cell_type": "code",
   "execution_count": null,
   "metadata": {},
   "outputs": [],
   "source": []
  },
  {
   "cell_type": "code",
   "execution_count": 1,
   "metadata": {},
   "outputs": [],
   "source": [
    "import pandas as pd\n",
    "import numpy as np\n",
    "import seaborn as sns\n",
    "import matplotlib.pyplot as plt\n",
    "from sklearn.model_selection import train_test_split\n",
    "\n",
    "from sklearn.preprocessing import StandardScaler\n",
    "# to scale numerical values\n",
    "from sklearn.impute import SimpleImputer\n",
    "# to impute missing values in Data\n",
    "from sklearn.preprocessing import OneHotEncoder, OrdinalEncoder\n",
    "# to convert categorical features into numberical feature\n",
    "\n",
    "from sklearn.pipeline import Pipeline\n",
    "# to build a data preprocessing pipeline\n",
    "import os\n",
    "data_root_dir = \"C:\\\\Users\\\\sachin\\\\OneDrive - Grras Solution Pvt. Ltd\\\\ML_BATCH_2021\\\\MachineLearning\\\\Notebooks\\\\datasets\"\n",
    "data_path = os.path.join(data_root_dir, 'housing\\housing.csv')\n",
    "housing = pd.read_csv(data_path)\n",
    "X = housing.drop(['median_house_value'], axis=1).copy()\n",
    "y = housing['median_house_value']\n",
    "\n",
    "\n",
    "# to randomly split data into train and test part\n",
    "X_train, X_test, y_train, y_test = train_test_split(X, y, test_size=0.2, random_state=123)\n",
    "\n",
    "num_features = ['longitude', 'latitude', 'housing_median_age', 'total_rooms',\n",
    "       'total_bedrooms', 'population', 'households', 'median_income']\n",
    "cat_features = [ 'ocean_proximity' ]\n"
   ]
  },
  {
   "cell_type": "code",
   "execution_count": null,
   "metadata": {},
   "outputs": [],
   "source": []
  },
  {
   "cell_type": "code",
   "execution_count": null,
   "metadata": {},
   "outputs": [],
   "source": []
  },
  {
   "cell_type": "code",
   "execution_count": 2,
   "metadata": {},
   "outputs": [],
   "source": [
    "from sklearn.preprocessing import StandardScaler\n",
    "# to scale numerical values\n",
    "from sklearn.impute import SimpleImputer\n",
    "# to impute missing values in Data\n",
    "from sklearn.preprocessing import OneHotEncoder, OrdinalEncoder\n",
    "# to convert categorical features into numberical feature\n",
    "\n",
    "from sklearn.pipeline import Pipeline\n",
    "# to build a data preprocessing pipeline"
   ]
  },
  {
   "cell_type": "code",
   "execution_count": 3,
   "metadata": {},
   "outputs": [
    {
     "data": {
      "text/html": [
       "<div>\n",
       "<style scoped>\n",
       "    .dataframe tbody tr th:only-of-type {\n",
       "        vertical-align: middle;\n",
       "    }\n",
       "\n",
       "    .dataframe tbody tr th {\n",
       "        vertical-align: top;\n",
       "    }\n",
       "\n",
       "    .dataframe thead th {\n",
       "        text-align: right;\n",
       "    }\n",
       "</style>\n",
       "<table border=\"1\" class=\"dataframe\">\n",
       "  <thead>\n",
       "    <tr style=\"text-align: right;\">\n",
       "      <th></th>\n",
       "      <th>longitude</th>\n",
       "      <th>latitude</th>\n",
       "      <th>housing_median_age</th>\n",
       "      <th>total_rooms</th>\n",
       "      <th>total_bedrooms</th>\n",
       "      <th>population</th>\n",
       "      <th>households</th>\n",
       "      <th>median_income</th>\n",
       "      <th>ocean_proximity</th>\n",
       "    </tr>\n",
       "  </thead>\n",
       "  <tbody>\n",
       "    <tr>\n",
       "      <th>9950</th>\n",
       "      <td>-122.33</td>\n",
       "      <td>38.38</td>\n",
       "      <td>28.0</td>\n",
       "      <td>1020.0</td>\n",
       "      <td>169.0</td>\n",
       "      <td>504.0</td>\n",
       "      <td>164.0</td>\n",
       "      <td>4.5694</td>\n",
       "      <td>INLAND</td>\n",
       "    </tr>\n",
       "    <tr>\n",
       "      <th>3547</th>\n",
       "      <td>-118.60</td>\n",
       "      <td>34.26</td>\n",
       "      <td>18.0</td>\n",
       "      <td>6154.0</td>\n",
       "      <td>1070.0</td>\n",
       "      <td>3010.0</td>\n",
       "      <td>1034.0</td>\n",
       "      <td>5.6392</td>\n",
       "      <td>&lt;1H OCEAN</td>\n",
       "    </tr>\n",
       "    <tr>\n",
       "      <th>4448</th>\n",
       "      <td>-118.21</td>\n",
       "      <td>34.07</td>\n",
       "      <td>47.0</td>\n",
       "      <td>1346.0</td>\n",
       "      <td>383.0</td>\n",
       "      <td>1452.0</td>\n",
       "      <td>371.0</td>\n",
       "      <td>1.7292</td>\n",
       "      <td>&lt;1H OCEAN</td>\n",
       "    </tr>\n",
       "    <tr>\n",
       "      <th>6984</th>\n",
       "      <td>-118.02</td>\n",
       "      <td>33.96</td>\n",
       "      <td>36.0</td>\n",
       "      <td>2071.0</td>\n",
       "      <td>398.0</td>\n",
       "      <td>988.0</td>\n",
       "      <td>404.0</td>\n",
       "      <td>4.6226</td>\n",
       "      <td>&lt;1H OCEAN</td>\n",
       "    </tr>\n",
       "    <tr>\n",
       "      <th>4432</th>\n",
       "      <td>-118.20</td>\n",
       "      <td>34.08</td>\n",
       "      <td>49.0</td>\n",
       "      <td>1320.0</td>\n",
       "      <td>309.0</td>\n",
       "      <td>1405.0</td>\n",
       "      <td>328.0</td>\n",
       "      <td>2.4375</td>\n",
       "      <td>&lt;1H OCEAN</td>\n",
       "    </tr>\n",
       "  </tbody>\n",
       "</table>\n",
       "</div>"
      ],
      "text/plain": [
       "      longitude  latitude  housing_median_age  total_rooms  total_bedrooms  \\\n",
       "9950    -122.33     38.38                28.0       1020.0           169.0   \n",
       "3547    -118.60     34.26                18.0       6154.0          1070.0   \n",
       "4448    -118.21     34.07                47.0       1346.0           383.0   \n",
       "6984    -118.02     33.96                36.0       2071.0           398.0   \n",
       "4432    -118.20     34.08                49.0       1320.0           309.0   \n",
       "\n",
       "      population  households  median_income ocean_proximity  \n",
       "9950       504.0       164.0         4.5694          INLAND  \n",
       "3547      3010.0      1034.0         5.6392       <1H OCEAN  \n",
       "4448      1452.0       371.0         1.7292       <1H OCEAN  \n",
       "6984       988.0       404.0         4.6226       <1H OCEAN  \n",
       "4432      1405.0       328.0         2.4375       <1H OCEAN  "
      ]
     },
     "execution_count": 3,
     "metadata": {},
     "output_type": "execute_result"
    }
   ],
   "source": [
    "X_train.head()"
   ]
  },
  {
   "cell_type": "code",
   "execution_count": 4,
   "metadata": {},
   "outputs": [
    {
     "data": {
      "text/plain": [
       "Index(['longitude', 'latitude', 'housing_median_age', 'total_rooms',\n",
       "       'total_bedrooms', 'population', 'households', 'median_income',\n",
       "       'ocean_proximity'],\n",
       "      dtype='object')"
      ]
     },
     "execution_count": 4,
     "metadata": {},
     "output_type": "execute_result"
    }
   ],
   "source": [
    "X_train.columns"
   ]
  },
  {
   "cell_type": "code",
   "execution_count": 5,
   "metadata": {},
   "outputs": [],
   "source": [
    "num_features = ['longitude', 'latitude', 'housing_median_age', 'total_rooms',\n",
    "       'total_bedrooms', 'population', 'households', 'median_income']\n",
    "cat_features = [ 'ocean_proximity' ]"
   ]
  },
  {
   "cell_type": "code",
   "execution_count": 6,
   "metadata": {},
   "outputs": [],
   "source": [
    "X_train_num = X_train[num_features]\n",
    "# Missing Values, Scale\n",
    "X_train_cat = X_train[cat_features]\n",
    "# OneHotEncoding"
   ]
  },
  {
   "cell_type": "code",
   "execution_count": 7,
   "metadata": {},
   "outputs": [],
   "source": [
    "num_pipeline = Pipeline([\n",
    "    ('imputer', SimpleImputer(strategy='median')), #T1\n",
    "    ('standard scaler', StandardScaler()), #T2\n",
    "])"
   ]
  },
  {
   "cell_type": "code",
   "execution_count": 8,
   "metadata": {},
   "outputs": [
    {
     "data": {
      "text/html": [
       "<div>\n",
       "<style scoped>\n",
       "    .dataframe tbody tr th:only-of-type {\n",
       "        vertical-align: middle;\n",
       "    }\n",
       "\n",
       "    .dataframe tbody tr th {\n",
       "        vertical-align: top;\n",
       "    }\n",
       "\n",
       "    .dataframe thead th {\n",
       "        text-align: right;\n",
       "    }\n",
       "</style>\n",
       "<table border=\"1\" class=\"dataframe\">\n",
       "  <thead>\n",
       "    <tr style=\"text-align: right;\">\n",
       "      <th></th>\n",
       "      <th>longitude</th>\n",
       "      <th>latitude</th>\n",
       "      <th>housing_median_age</th>\n",
       "      <th>total_rooms</th>\n",
       "      <th>total_bedrooms</th>\n",
       "      <th>population</th>\n",
       "      <th>households</th>\n",
       "      <th>median_income</th>\n",
       "    </tr>\n",
       "  </thead>\n",
       "  <tbody>\n",
       "    <tr>\n",
       "      <th>0</th>\n",
       "      <td>-1.381195</td>\n",
       "      <td>1.289422</td>\n",
       "      <td>-0.045376</td>\n",
       "      <td>-0.737644</td>\n",
       "      <td>-0.872454</td>\n",
       "      <td>-0.822910</td>\n",
       "      <td>-0.873927</td>\n",
       "      <td>0.367714</td>\n",
       "    </tr>\n",
       "    <tr>\n",
       "      <th>1</th>\n",
       "      <td>0.483377</td>\n",
       "      <td>-0.640792</td>\n",
       "      <td>-0.840169</td>\n",
       "      <td>1.587216</td>\n",
       "      <td>1.246544</td>\n",
       "      <td>1.394248</td>\n",
       "      <td>1.371062</td>\n",
       "      <td>0.930745</td>\n",
       "    </tr>\n",
       "    <tr>\n",
       "      <th>2</th>\n",
       "      <td>0.678333</td>\n",
       "      <td>-0.729807</td>\n",
       "      <td>1.464730</td>\n",
       "      <td>-0.590019</td>\n",
       "      <td>-0.369162</td>\n",
       "      <td>0.015823</td>\n",
       "      <td>-0.339775</td>\n",
       "      <td>-1.127069</td>\n",
       "    </tr>\n",
       "    <tr>\n",
       "      <th>3</th>\n",
       "      <td>0.773311</td>\n",
       "      <td>-0.781342</td>\n",
       "      <td>0.590458</td>\n",
       "      <td>-0.261713</td>\n",
       "      <td>-0.333885</td>\n",
       "      <td>-0.394696</td>\n",
       "      <td>-0.254620</td>\n",
       "      <td>0.395713</td>\n",
       "    </tr>\n",
       "    <tr>\n",
       "      <th>4</th>\n",
       "      <td>0.683331</td>\n",
       "      <td>-0.725122</td>\n",
       "      <td>1.623688</td>\n",
       "      <td>-0.601793</td>\n",
       "      <td>-0.543198</td>\n",
       "      <td>-0.025760</td>\n",
       "      <td>-0.450734</td>\n",
       "      <td>-0.754294</td>\n",
       "    </tr>\n",
       "  </tbody>\n",
       "</table>\n",
       "</div>"
      ],
      "text/plain": [
       "   longitude  latitude  housing_median_age  total_rooms  total_bedrooms  \\\n",
       "0  -1.381195  1.289422           -0.045376    -0.737644       -0.872454   \n",
       "1   0.483377 -0.640792           -0.840169     1.587216        1.246544   \n",
       "2   0.678333 -0.729807            1.464730    -0.590019       -0.369162   \n",
       "3   0.773311 -0.781342            0.590458    -0.261713       -0.333885   \n",
       "4   0.683331 -0.725122            1.623688    -0.601793       -0.543198   \n",
       "\n",
       "   population  households  median_income  \n",
       "0   -0.822910   -0.873927       0.367714  \n",
       "1    1.394248    1.371062       0.930745  \n",
       "2    0.015823   -0.339775      -1.127069  \n",
       "3   -0.394696   -0.254620       0.395713  \n",
       "4   -0.025760   -0.450734      -0.754294  "
      ]
     },
     "execution_count": 8,
     "metadata": {},
     "output_type": "execute_result"
    }
   ],
   "source": [
    "tr = num_pipeline.fit_transform(X_train_num)\n",
    "X_train_num_tr = pd.DataFrame(tr, columns=X_train_num.columns)\n",
    "X_train_num_tr.head()"
   ]
  },
  {
   "cell_type": "code",
   "execution_count": 9,
   "metadata": {},
   "outputs": [
    {
     "data": {
      "text/plain": [
       "longitude             0\n",
       "latitude              0\n",
       "housing_median_age    0\n",
       "total_rooms           0\n",
       "total_bedrooms        0\n",
       "population            0\n",
       "households            0\n",
       "median_income         0\n",
       "dtype: int64"
      ]
     },
     "execution_count": 9,
     "metadata": {},
     "output_type": "execute_result"
    }
   ],
   "source": [
    "X_train_num_tr.isna().sum()"
   ]
  },
  {
   "cell_type": "code",
   "execution_count": 10,
   "metadata": {},
   "outputs": [
    {
     "data": {
      "text/plain": [
       "array([-118.49  ,   34.25  ,   29.    , 2138.5   ,  438.    , 1170.    ,\n",
       "        412.    ,    3.5294])"
      ]
     },
     "execution_count": 10,
     "metadata": {},
     "output_type": "execute_result"
    }
   ],
   "source": [
    "num_pipeline.named_steps['imputer'].statistics_"
   ]
  },
  {
   "cell_type": "code",
   "execution_count": 11,
   "metadata": {},
   "outputs": [
    {
     "data": {
      "text/plain": [
       "array([-119.56697614,   35.62775739,   28.57091812, 2648.94319283,\n",
       "        539.96814438, 1434.11573401,  502.67284399,    3.8707156 ])"
      ]
     },
     "execution_count": 11,
     "metadata": {},
     "output_type": "execute_result"
    }
   ],
   "source": [
    "num_pipeline.named_steps['standard scaler'].mean_"
   ]
  },
  {
   "cell_type": "code",
   "execution_count": 12,
   "metadata": {},
   "outputs": [
    {
     "data": {
      "text/plain": [
       "array([4.00183395e+00, 4.55599661e+00, 1.58304200e+02, 4.87661272e+06,\n",
       "       1.80795891e+05, 1.27752329e+06, 1.50179314e+05, 3.61028250e+00])"
      ]
     },
     "execution_count": 12,
     "metadata": {},
     "output_type": "execute_result"
    }
   ],
   "source": [
    "num_pipeline.named_steps['standard scaler'].var_"
   ]
  },
  {
   "cell_type": "code",
   "execution_count": 13,
   "metadata": {},
   "outputs": [],
   "source": [
    "cat_pipeline = OneHotEncoder()"
   ]
  },
  {
   "cell_type": "code",
   "execution_count": 14,
   "metadata": {},
   "outputs": [
    {
     "data": {
      "text/html": [
       "<div>\n",
       "<style scoped>\n",
       "    .dataframe tbody tr th:only-of-type {\n",
       "        vertical-align: middle;\n",
       "    }\n",
       "\n",
       "    .dataframe tbody tr th {\n",
       "        vertical-align: top;\n",
       "    }\n",
       "\n",
       "    .dataframe thead th {\n",
       "        text-align: right;\n",
       "    }\n",
       "</style>\n",
       "<table border=\"1\" class=\"dataframe\">\n",
       "  <thead>\n",
       "    <tr style=\"text-align: right;\">\n",
       "      <th></th>\n",
       "      <th>&lt;1H OCEAN</th>\n",
       "      <th>INLAND</th>\n",
       "      <th>ISLAND</th>\n",
       "      <th>NEAR BAY</th>\n",
       "      <th>NEAR OCEAN</th>\n",
       "    </tr>\n",
       "  </thead>\n",
       "  <tbody>\n",
       "    <tr>\n",
       "      <th>0</th>\n",
       "      <td>0.0</td>\n",
       "      <td>1.0</td>\n",
       "      <td>0.0</td>\n",
       "      <td>0.0</td>\n",
       "      <td>0.0</td>\n",
       "    </tr>\n",
       "    <tr>\n",
       "      <th>1</th>\n",
       "      <td>1.0</td>\n",
       "      <td>0.0</td>\n",
       "      <td>0.0</td>\n",
       "      <td>0.0</td>\n",
       "      <td>0.0</td>\n",
       "    </tr>\n",
       "    <tr>\n",
       "      <th>2</th>\n",
       "      <td>1.0</td>\n",
       "      <td>0.0</td>\n",
       "      <td>0.0</td>\n",
       "      <td>0.0</td>\n",
       "      <td>0.0</td>\n",
       "    </tr>\n",
       "    <tr>\n",
       "      <th>3</th>\n",
       "      <td>1.0</td>\n",
       "      <td>0.0</td>\n",
       "      <td>0.0</td>\n",
       "      <td>0.0</td>\n",
       "      <td>0.0</td>\n",
       "    </tr>\n",
       "    <tr>\n",
       "      <th>4</th>\n",
       "      <td>1.0</td>\n",
       "      <td>0.0</td>\n",
       "      <td>0.0</td>\n",
       "      <td>0.0</td>\n",
       "      <td>0.0</td>\n",
       "    </tr>\n",
       "  </tbody>\n",
       "</table>\n",
       "</div>"
      ],
      "text/plain": [
       "   <1H OCEAN  INLAND  ISLAND  NEAR BAY  NEAR OCEAN\n",
       "0        0.0     1.0     0.0       0.0         0.0\n",
       "1        1.0     0.0     0.0       0.0         0.0\n",
       "2        1.0     0.0     0.0       0.0         0.0\n",
       "3        1.0     0.0     0.0       0.0         0.0\n",
       "4        1.0     0.0     0.0       0.0         0.0"
      ]
     },
     "execution_count": 14,
     "metadata": {},
     "output_type": "execute_result"
    }
   ],
   "source": [
    "X_train_cat_tr = cat_pipeline.fit_transform(X_train_cat).toarray()\n",
    "cols = cat_pipeline.categories_[0]\n",
    "X_train_cat_tr = pd.DataFrame(X_train_cat_tr, columns=cols)\n",
    "X_train_cat_tr.head()"
   ]
  },
  {
   "cell_type": "code",
   "execution_count": 15,
   "metadata": {},
   "outputs": [],
   "source": [
    "a = np.random.random((4,3))\n",
    "b = np.random.random((4, 2))"
   ]
  },
  {
   "cell_type": "code",
   "execution_count": 16,
   "metadata": {},
   "outputs": [
    {
     "data": {
      "text/plain": [
       "array([[0.17554093, 0.46598734, 0.05829584],\n",
       "       [0.1645392 , 0.10472337, 0.14829738],\n",
       "       [0.58908087, 0.13905724, 0.12584458],\n",
       "       [0.82346626, 0.26839774, 0.1162159 ]])"
      ]
     },
     "execution_count": 16,
     "metadata": {},
     "output_type": "execute_result"
    }
   ],
   "source": [
    "a"
   ]
  },
  {
   "cell_type": "code",
   "execution_count": 17,
   "metadata": {},
   "outputs": [
    {
     "data": {
      "text/plain": [
       "array([[0.13922082, 0.15986068],\n",
       "       [0.48760561, 0.54212023],\n",
       "       [0.50974834, 0.56551719],\n",
       "       [0.91649748, 0.12700371]])"
      ]
     },
     "execution_count": 17,
     "metadata": {},
     "output_type": "execute_result"
    }
   ],
   "source": [
    "b"
   ]
  },
  {
   "cell_type": "code",
   "execution_count": 18,
   "metadata": {},
   "outputs": [
    {
     "data": {
      "text/plain": [
       "array([[0.17554093, 0.46598734, 0.05829584, 0.13922082, 0.15986068],\n",
       "       [0.1645392 , 0.10472337, 0.14829738, 0.48760561, 0.54212023],\n",
       "       [0.58908087, 0.13905724, 0.12584458, 0.50974834, 0.56551719],\n",
       "       [0.82346626, 0.26839774, 0.1162159 , 0.91649748, 0.12700371]])"
      ]
     },
     "execution_count": 18,
     "metadata": {},
     "output_type": "execute_result"
    }
   ],
   "source": [
    "c = np.c_[a, b]\n",
    "c"
   ]
  },
  {
   "cell_type": "code",
   "execution_count": 19,
   "metadata": {},
   "outputs": [],
   "source": [
    "# Combining Feature Together to make single \n",
    "X_train_tr = pd.concat([X_train_num_tr, X_train_cat_tr], axis=1)"
   ]
  },
  {
   "cell_type": "code",
   "execution_count": 20,
   "metadata": {},
   "outputs": [
    {
     "data": {
      "text/html": [
       "<div>\n",
       "<style scoped>\n",
       "    .dataframe tbody tr th:only-of-type {\n",
       "        vertical-align: middle;\n",
       "    }\n",
       "\n",
       "    .dataframe tbody tr th {\n",
       "        vertical-align: top;\n",
       "    }\n",
       "\n",
       "    .dataframe thead th {\n",
       "        text-align: right;\n",
       "    }\n",
       "</style>\n",
       "<table border=\"1\" class=\"dataframe\">\n",
       "  <thead>\n",
       "    <tr style=\"text-align: right;\">\n",
       "      <th></th>\n",
       "      <th>longitude</th>\n",
       "      <th>latitude</th>\n",
       "      <th>housing_median_age</th>\n",
       "      <th>total_rooms</th>\n",
       "      <th>total_bedrooms</th>\n",
       "      <th>population</th>\n",
       "      <th>households</th>\n",
       "      <th>median_income</th>\n",
       "      <th>&lt;1H OCEAN</th>\n",
       "      <th>INLAND</th>\n",
       "      <th>ISLAND</th>\n",
       "      <th>NEAR BAY</th>\n",
       "      <th>NEAR OCEAN</th>\n",
       "    </tr>\n",
       "  </thead>\n",
       "  <tbody>\n",
       "    <tr>\n",
       "      <th>0</th>\n",
       "      <td>-1.381195</td>\n",
       "      <td>1.289422</td>\n",
       "      <td>-0.045376</td>\n",
       "      <td>-0.737644</td>\n",
       "      <td>-0.872454</td>\n",
       "      <td>-0.822910</td>\n",
       "      <td>-0.873927</td>\n",
       "      <td>0.367714</td>\n",
       "      <td>0.0</td>\n",
       "      <td>1.0</td>\n",
       "      <td>0.0</td>\n",
       "      <td>0.0</td>\n",
       "      <td>0.0</td>\n",
       "    </tr>\n",
       "    <tr>\n",
       "      <th>1</th>\n",
       "      <td>0.483377</td>\n",
       "      <td>-0.640792</td>\n",
       "      <td>-0.840169</td>\n",
       "      <td>1.587216</td>\n",
       "      <td>1.246544</td>\n",
       "      <td>1.394248</td>\n",
       "      <td>1.371062</td>\n",
       "      <td>0.930745</td>\n",
       "      <td>1.0</td>\n",
       "      <td>0.0</td>\n",
       "      <td>0.0</td>\n",
       "      <td>0.0</td>\n",
       "      <td>0.0</td>\n",
       "    </tr>\n",
       "    <tr>\n",
       "      <th>2</th>\n",
       "      <td>0.678333</td>\n",
       "      <td>-0.729807</td>\n",
       "      <td>1.464730</td>\n",
       "      <td>-0.590019</td>\n",
       "      <td>-0.369162</td>\n",
       "      <td>0.015823</td>\n",
       "      <td>-0.339775</td>\n",
       "      <td>-1.127069</td>\n",
       "      <td>1.0</td>\n",
       "      <td>0.0</td>\n",
       "      <td>0.0</td>\n",
       "      <td>0.0</td>\n",
       "      <td>0.0</td>\n",
       "    </tr>\n",
       "    <tr>\n",
       "      <th>3</th>\n",
       "      <td>0.773311</td>\n",
       "      <td>-0.781342</td>\n",
       "      <td>0.590458</td>\n",
       "      <td>-0.261713</td>\n",
       "      <td>-0.333885</td>\n",
       "      <td>-0.394696</td>\n",
       "      <td>-0.254620</td>\n",
       "      <td>0.395713</td>\n",
       "      <td>1.0</td>\n",
       "      <td>0.0</td>\n",
       "      <td>0.0</td>\n",
       "      <td>0.0</td>\n",
       "      <td>0.0</td>\n",
       "    </tr>\n",
       "    <tr>\n",
       "      <th>4</th>\n",
       "      <td>0.683331</td>\n",
       "      <td>-0.725122</td>\n",
       "      <td>1.623688</td>\n",
       "      <td>-0.601793</td>\n",
       "      <td>-0.543198</td>\n",
       "      <td>-0.025760</td>\n",
       "      <td>-0.450734</td>\n",
       "      <td>-0.754294</td>\n",
       "      <td>1.0</td>\n",
       "      <td>0.0</td>\n",
       "      <td>0.0</td>\n",
       "      <td>0.0</td>\n",
       "      <td>0.0</td>\n",
       "    </tr>\n",
       "  </tbody>\n",
       "</table>\n",
       "</div>"
      ],
      "text/plain": [
       "   longitude  latitude  housing_median_age  total_rooms  total_bedrooms  \\\n",
       "0  -1.381195  1.289422           -0.045376    -0.737644       -0.872454   \n",
       "1   0.483377 -0.640792           -0.840169     1.587216        1.246544   \n",
       "2   0.678333 -0.729807            1.464730    -0.590019       -0.369162   \n",
       "3   0.773311 -0.781342            0.590458    -0.261713       -0.333885   \n",
       "4   0.683331 -0.725122            1.623688    -0.601793       -0.543198   \n",
       "\n",
       "   population  households  median_income  <1H OCEAN  INLAND  ISLAND  NEAR BAY  \\\n",
       "0   -0.822910   -0.873927       0.367714        0.0     1.0     0.0       0.0   \n",
       "1    1.394248    1.371062       0.930745        1.0     0.0     0.0       0.0   \n",
       "2    0.015823   -0.339775      -1.127069        1.0     0.0     0.0       0.0   \n",
       "3   -0.394696   -0.254620       0.395713        1.0     0.0     0.0       0.0   \n",
       "4   -0.025760   -0.450734      -0.754294        1.0     0.0     0.0       0.0   \n",
       "\n",
       "   NEAR OCEAN  \n",
       "0         0.0  \n",
       "1         0.0  \n",
       "2         0.0  \n",
       "3         0.0  \n",
       "4         0.0  "
      ]
     },
     "execution_count": 20,
     "metadata": {},
     "output_type": "execute_result"
    }
   ],
   "source": [
    "X_train_tr.head()"
   ]
  },
  {
   "cell_type": "code",
   "execution_count": 21,
   "metadata": {},
   "outputs": [],
   "source": [
    "from sklearn.linear_model import SGDRegressor"
   ]
  },
  {
   "cell_type": "code",
   "execution_count": 22,
   "metadata": {},
   "outputs": [],
   "source": [
    "model = SGDRegressor()"
   ]
  },
  {
   "cell_type": "code",
   "execution_count": 23,
   "metadata": {},
   "outputs": [
    {
     "data": {
      "text/plain": [
       "SGDRegressor()"
      ]
     },
     "execution_count": 23,
     "metadata": {},
     "output_type": "execute_result"
    }
   ],
   "source": [
    "model.fit(X_train_tr, y_train)"
   ]
  },
  {
   "cell_type": "code",
   "execution_count": 24,
   "metadata": {},
   "outputs": [],
   "source": [
    "X_test_num = X_test[num_features]\n",
    "X_test_cat = X_test[cat_features]\n",
    "X_test_num_tr = num_pipeline.transform(X_test_num) # Only Transform\n",
    "X_test_cat_tr = cat_pipeline.transform(X_test_cat).toarray()\n",
    "X_test_tr = np.c_[X_test_num_tr, X_test_cat_tr]\n"
   ]
  },
  {
   "cell_type": "code",
   "execution_count": 25,
   "metadata": {},
   "outputs": [],
   "source": [
    "y_hat = model.predict(X_test_tr) # ? "
   ]
  },
  {
   "cell_type": "code",
   "execution_count": 26,
   "metadata": {},
   "outputs": [
    {
     "data": {
      "text/plain": [
       "array([247560.15, 130905.92, 157363.67, 141903.41, 282869.96])"
      ]
     },
     "execution_count": 26,
     "metadata": {},
     "output_type": "execute_result"
    }
   ],
   "source": [
    "np.round(y_hat[:5], 2)"
   ]
  },
  {
   "cell_type": "code",
   "execution_count": 27,
   "metadata": {},
   "outputs": [
    {
     "data": {
      "text/plain": [
       "array([151600.,  99200., 134500., 231700., 462900.])"
      ]
     },
     "execution_count": 27,
     "metadata": {},
     "output_type": "execute_result"
    }
   ],
   "source": [
    "y_test[:5].to_numpy()"
   ]
  },
  {
   "cell_type": "code",
   "execution_count": 28,
   "metadata": {},
   "outputs": [
    {
     "data": {
      "text/plain": [
       "array([ 95960.14688996,  31705.92026927,  22863.66841818,  89796.58683513,\n",
       "       180030.03902524])"
      ]
     },
     "execution_count": 28,
     "metadata": {},
     "output_type": "execute_result"
    }
   ],
   "source": [
    "residuals = np.absolute(y_hat - y_test)\n",
    "residuals[:5].to_numpy()"
   ]
  },
  {
   "cell_type": "code",
   "execution_count": 29,
   "metadata": {},
   "outputs": [],
   "source": [
    "from sklearn.metrics import r2_score"
   ]
  },
  {
   "cell_type": "code",
   "execution_count": 30,
   "metadata": {},
   "outputs": [
    {
     "name": "stdout",
     "output_type": "stream",
     "text": [
      "Test Accuracy:  0.6445402565210057\n"
     ]
    }
   ],
   "source": [
    "print(\"Test Accuracy: \", r2_score(y_test, y_hat))"
   ]
  },
  {
   "cell_type": "code",
   "execution_count": 31,
   "metadata": {},
   "outputs": [
    {
     "name": "stdout",
     "output_type": "stream",
     "text": [
      "Train Accuracy:  0.6426488103239041\n"
     ]
    }
   ],
   "source": [
    "y_hat_train = model.predict(X_train_tr)\n",
    "print(\"Train Accuracy: \", r2_score(y_train, y_hat_train))"
   ]
  },
  {
   "cell_type": "markdown",
   "metadata": {},
   "source": [
    "## Final Pipeline"
   ]
  },
  {
   "cell_type": "code",
   "execution_count": 31,
   "metadata": {},
   "outputs": [
    {
     "name": "stdout",
     "output_type": "stream",
     "text": [
      "Overwriting housing_project.py\n"
     ]
    }
   ],
   "source": [
    "%%writefile housing_project.py\n",
    "import pandas as pd\n",
    "import numpy as np\n",
    "import seaborn as sns\n",
    "import matplotlib.pyplot as plt\n",
    "from sklearn.model_selection import train_test_split\n",
    "\n",
    "from sklearn.preprocessing import StandardScaler\n",
    "# to scale numerical values\n",
    "from sklearn.impute import SimpleImputer\n",
    "# to impute missing values in Data\n",
    "from sklearn.preprocessing import OneHotEncoder, OrdinalEncoder\n",
    "# to convert categorical features into numberical feature\n",
    "\n",
    "from sklearn.pipeline import Pipeline\n",
    "# to build a data preprocessing pipeline\n",
    "from sklearn.compose import ColumnTransformer\n",
    "import os\n",
    "\n",
    "\n",
    "from sklearn.linear_model import LinearRegression, SGDRegressor\n",
    "from sklearn.tree import DecisionTreeRegressor\n",
    "from sklearn.svm import SVR\n",
    "from sklearn.ensemble import RandomForestRegressor\n",
    "from sklearn.neighbors import KNeighborsRegressor\n",
    "\n",
    "\n",
    "from sklearn.metrics import mean_squared_error, r2_score\n",
    "\n",
    "\n",
    "def rmse(y, y_hat):\n",
    "    return np.sqrt(mean_squared_error(y, y_hat))\n",
    "\n",
    "def model_report(models, X_train, X_test, y_train, y_test):\n",
    "    for name, model in models:\n",
    "        model.fit(X_train, y_train)\n",
    "        y_hat_train = model.predict(X_train)\n",
    "        y_hat_test  = model.predict(X_test)\n",
    "        print(\"_\"*80)\n",
    "        print(f\"Report For {name}\".center(80))\n",
    "        print()\n",
    "        print(f\"Training RMSE Error: {rmse(y_train, y_hat_train):.2f}\" )\n",
    "        print(f\"Test     RMSE Error: {rmse(y_test, y_hat_test):.2f}\")\n",
    "        print()\n",
    "        print(f\"Training Accuracy: {r2_score(y_train, y_hat_train):.2f}\")\n",
    "        print(f\"Test     Accuracy: {r2_score(y_test, y_hat_test):.2f}\")\n",
    "        print('\\n\\n')\n",
    "        \n",
    "def load_data():\n",
    "    data_root_dir = \"C:\\\\Users\\\\sachin\\\\OneDrive - Grras Solution Pvt. Ltd\\\\ML_BATCH_2021\\\\MachineLearning\\\\Notebooks\\\\datasets\"\n",
    "    data_path = os.path.join(data_root_dir, 'housing\\housing.csv')\n",
    "    housing = pd.read_csv(data_path)\n",
    "    X = housing.drop(['median_house_value'], axis=1).copy()\n",
    "    y = housing['median_house_value']\n",
    "    return X, y\n",
    "\n",
    "\n",
    "\n",
    "\n",
    "\n",
    "if __name__ == '__main__':\n",
    "\n",
    "    # to randomly split data into train and test part\n",
    "    X, y = load_data()\n",
    "    X_train, X_test, y_train, y_test = train_test_split(X, y, test_size=0.2, random_state=123)\n",
    "\n",
    "    num_features = [ 'longitude', 'latitude', 'housing_median_age', 'total_rooms',\n",
    "           'total_bedrooms', 'population', 'households', 'median_income']\n",
    "\n",
    "    cat_features = [ 'ocean_proximity' ]\n",
    "\n",
    "    #drop_features = ['longitude', 'latitude']\n",
    "\n",
    "    #pass_through =  [ 'median_income']\n",
    "\n",
    "    num_pipeline = Pipeline([\n",
    "        ('imputer', SimpleImputer(strategy='median')), #T1\n",
    "        ('standard scaler', StandardScaler()), #T2\n",
    "    ])\n",
    "\n",
    "\n",
    "    final_pipeline = ColumnTransformer([\n",
    "        # (name, Transformer, column_list)\n",
    "        (\"numerical pipeline\", num_pipeline, num_features),\n",
    "        (\"categorical pipeline\", OneHotEncoder(), cat_features),\n",
    "        # ('remove features', 'drop', drop_features),\n",
    "        # ('pass throgh', 'passthrough', pass_through )\n",
    "    ])\n",
    "\n",
    "    X_train_tr = final_pipeline.fit_transform(X_train)\n",
    "    cat_col = list(final_pipeline.named_transformers_['categorical pipeline'].categories_[0])\n",
    "\n",
    "    columns = num_features + list(cat_col) #+ pass_through\n",
    "\n",
    "    X_train_tr = pd.DataFrame(X_train_tr, columns=columns)\n",
    "    X_test_tr  =  final_pipeline.transform(X_test)\n",
    "    X_test_tr = pd.DataFrame(X_test_tr, columns=columns)\n",
    "    \n",
    "    models = [\n",
    "        ('Linear Regression', LinearRegression()),\n",
    "        ('SGD Regressor', SGDRegressor(max_iter=10000)),\n",
    "        ('Decision Tree', DecisionTreeRegressor(max_depth=7)),\n",
    "        ('Support Vector Machines', SVR(kernel='linear')),\n",
    "        ('Random Forest', RandomForestRegressor(max_depth=9)),\n",
    "        ('K-Nearest Neighbors', KNeighborsRegressor(n_neighbors=51))\n",
    "    ]\n",
    "\n",
    "    model_report(models, X_train_tr, X_test_tr, y_train, y_test)"
   ]
  },
  {
   "cell_type": "markdown",
   "metadata": {},
   "source": [
    "## Custom Transformers"
   ]
  },
  {
   "cell_type": "code",
   "execution_count": 32,
   "metadata": {},
   "outputs": [
    {
     "name": "stdout",
     "output_type": "stream",
     "text": [
      "^C\n"
     ]
    }
   ],
   "source": [
    "!python housing_project.py"
   ]
  },
  {
   "cell_type": "markdown",
   "metadata": {},
   "source": [
    "### 15 - 20 minutes \n",
    "\n",
    "    Custom Transformers"
   ]
  },
  {
   "cell_type": "markdown",
   "metadata": {},
   "source": [
    "### Feature Engineering\n",
    "\n",
    "    columns drop\n",
    "    \n",
    "    column embededing "
   ]
  },
  {
   "cell_type": "markdown",
   "metadata": {},
   "source": [
    "    (longitude + latitude ) -> 48"
   ]
  },
  {
   "cell_type": "code",
   "execution_count": 36,
   "metadata": {},
   "outputs": [
    {
     "data": {
      "text/plain": [
       "Index(['longitude', 'latitude', 'housing_median_age', 'total_rooms',\n",
       "       'total_bedrooms', 'population', 'households', 'median_income',\n",
       "       'ocean_proximity'],\n",
       "      dtype='object')"
      ]
     },
     "execution_count": 36,
     "metadata": {},
     "output_type": "execute_result"
    }
   ],
   "source": [
    "X_train.columns"
   ]
  },
  {
   "cell_type": "code",
   "execution_count": 35,
   "metadata": {},
   "outputs": [
    {
     "data": {
      "text/plain": [
       "median_income         0.688904\n",
       "total_rooms           0.132965\n",
       "housing_median_age    0.099487\n",
       "households            0.064043\n",
       "total_bedrooms        0.048823\n",
       "population           -0.024484\n",
       "longitude            -0.038349\n",
       "latitude             -0.150574\n",
       "dtype: float64"
      ]
     },
     "execution_count": 35,
     "metadata": {},
     "output_type": "execute_result"
    }
   ],
   "source": [
    "X_train.corrwith(y_train).sort_values(ascending=False)"
   ]
  },
  {
   "cell_type": "code",
   "execution_count": 38,
   "metadata": {},
   "outputs": [
    {
     "name": "stdout",
     "output_type": "stream",
     "text": [
      "-0.48973069783048284\n"
     ]
    }
   ],
   "source": [
    "long_lat = X_train['longitude'] + X_train['latitude']\n",
    "print(np.corrcoef(long_lat, y_train)[0, 1])"
   ]
  },
  {
   "cell_type": "code",
   "execution_count": 39,
   "metadata": {},
   "outputs": [
    {
     "name": "stdout",
     "output_type": "stream",
     "text": [
      "0.2604202504653188\n"
     ]
    }
   ],
   "source": [
    "hs_pop = X_train['households'] / X_train['population']\n",
    "print(np.corrcoef(hs_pop, y_train)[0, 1])"
   ]
  },
  {
   "cell_type": "code",
   "execution_count": 47,
   "metadata": {},
   "outputs": [
    {
     "name": "stdout",
     "output_type": "stream",
     "text": [
      "-0.25588014941949794\n"
     ]
    }
   ],
   "source": [
    "d = housing.dropna()\n",
    "bd_room = d['total_bedrooms'] / d['total_rooms']\n",
    "print(np.corrcoef(bd_room, d['median_house_value'])[0, 1])"
   ]
  },
  {
   "cell_type": "markdown",
   "metadata": {},
   "source": [
    "    fit -> learn\n",
    "    \n",
    "    transform -> logic of transformation\n",
    "    \n",
    "    "
   ]
  },
  {
   "cell_type": "code",
   "execution_count": 50,
   "metadata": {},
   "outputs": [
    {
     "data": {
      "text/plain": [
       "Index(['longitude', 'latitude', 'housing_median_age', 'total_rooms',\n",
       "       'total_bedrooms', 'population', 'households', 'median_income',\n",
       "       'ocean_proximity'],\n",
       "      dtype='object')"
      ]
     },
     "execution_count": 50,
     "metadata": {},
     "output_type": "execute_result"
    }
   ],
   "source": [
    "X_train.columns"
   ]
  },
  {
   "cell_type": "markdown",
   "metadata": {},
   "source": [
    "Imputer -> Add_Features  -> Scaler"
   ]
  },
  {
   "cell_type": "code",
   "execution_count": 54,
   "metadata": {},
   "outputs": [
    {
     "data": {
      "text/plain": [
       "array([[35, 38, 13, 49, 24],\n",
       "       [30, 18, 37, 42, 16],\n",
       "       [30, 44, 48, 49, 21],\n",
       "       [45, 33, 43, 13, 32]])"
      ]
     },
     "execution_count": 54,
     "metadata": {},
     "output_type": "execute_result"
    }
   ],
   "source": [
    "a = np.random.randint(10, 50, 20).reshape(4, 5)\n",
    "a"
   ]
  },
  {
   "cell_type": "code",
   "execution_count": 58,
   "metadata": {},
   "outputs": [
    {
     "data": {
      "text/plain": [
       "array([[35, 38, 13, 49, 24, 62],\n",
       "       [30, 18, 37, 42, 16, 34],\n",
       "       [30, 44, 48, 49, 21, 65],\n",
       "       [45, 33, 43, 13, 32, 65]])"
      ]
     },
     "execution_count": 58,
     "metadata": {},
     "output_type": "execute_result"
    }
   ],
   "source": [
    "a = np.c_[a, a[:, 1] + a[:, 4]]\n",
    "a"
   ]
  },
  {
   "cell_type": "code",
   "execution_count": 61,
   "metadata": {},
   "outputs": [],
   "source": [
    "# T1 -> T2 -> T3 -> \n",
    "\n",
    "from sklearn.base import BaseEstimator, TransformerMixin\n",
    "\n",
    "class Add_Features(BaseEstimator, TransformerMixin):\n",
    "    \n",
    "    def __init__(self, add_rooms=True): \n",
    "        self.add_rooms = add_rooms # add_rooms -> is hyper parameter tunining\n",
    "        self.ln  = 0 # longitude index\n",
    "        self.lt  = 1 # latitude index\n",
    "        self.pop = 5 # population index\n",
    "        self.hs  = 6 # households\n",
    "        self.rm  = 3 # total rooms\n",
    "        self.bd  = 4 # total bedrooms\n",
    "        \n",
    "    def fit(self, X, y=None):\n",
    "        return self\n",
    "    \n",
    "    def transform(self, X, y=None):\n",
    "        ln_lat = X[:, self.ln] + X[:, self.lt]\n",
    "        hs_pop = X[:, self.hs] / X[:, self.pop]\n",
    "        if self.add_rooms:\n",
    "            bd_rm  = X[:, self.bd] / X[:, self.rm]\n",
    "            return np.c_[X, ln_lat, hs_pop, bd_rm]\n",
    "        \n",
    "        return np.c_[X, ln_lat, hs_pop]\n",
    "    \n",
    "        \n",
    "        \n",
    "    "
   ]
  },
  {
   "cell_type": "code",
   "execution_count": 77,
   "metadata": {},
   "outputs": [],
   "source": [
    "num_features = [ 'longitude', 'latitude', 'housing_median_age', 'total_rooms',\n",
    "       'total_bedrooms', 'population', 'households', 'median_income',]\n",
    "cat_features = [ 'ocean_proximity' ]\n",
    "num_pipeline = Pipeline([\n",
    "    ('imputer', SimpleImputer(strategy='median')),\n",
    "    ('add features', Add_Features() ),\n",
    "    ('scaler', StandardScaler() )\n",
    "])\n",
    "\n",
    "final_pipeline = ColumnTransformer([\n",
    "    ('numerical pipeline', num_pipeline, num_features ),\n",
    "    ('categorical pipeline', OneHotEncoder(), cat_features)\n",
    "])\n",
    "\n",
    "X_train_tr = final_pipeline.fit_transform(X_train)\n",
    "\n",
    "\n",
    "cat_c = list(final_pipeline.named_transformers_['categorical pipeline'].categories_[0])\n",
    "cols = num_features + ['long_lat', 'house_population', 'bedrooms_per_room'] + cat_c\n",
    "X_train_tr = pd.DataFrame(X_train_tr, columns=cols)"
   ]
  },
  {
   "cell_type": "code",
   "execution_count": 78,
   "metadata": {},
   "outputs": [
    {
     "data": {
      "text/html": [
       "<div>\n",
       "<style scoped>\n",
       "    .dataframe tbody tr th:only-of-type {\n",
       "        vertical-align: middle;\n",
       "    }\n",
       "\n",
       "    .dataframe tbody tr th {\n",
       "        vertical-align: top;\n",
       "    }\n",
       "\n",
       "    .dataframe thead th {\n",
       "        text-align: right;\n",
       "    }\n",
       "</style>\n",
       "<table border=\"1\" class=\"dataframe\">\n",
       "  <thead>\n",
       "    <tr style=\"text-align: right;\">\n",
       "      <th></th>\n",
       "      <th>longitude</th>\n",
       "      <th>latitude</th>\n",
       "      <th>housing_median_age</th>\n",
       "      <th>total_rooms</th>\n",
       "      <th>total_bedrooms</th>\n",
       "      <th>population</th>\n",
       "      <th>households</th>\n",
       "      <th>median_income</th>\n",
       "      <th>long_lat</th>\n",
       "      <th>house_population</th>\n",
       "      <th>bedrooms_per_room</th>\n",
       "      <th>&lt;1H OCEAN</th>\n",
       "      <th>INLAND</th>\n",
       "      <th>ISLAND</th>\n",
       "      <th>NEAR BAY</th>\n",
       "      <th>NEAR OCEAN</th>\n",
       "    </tr>\n",
       "  </thead>\n",
       "  <tbody>\n",
       "    <tr>\n",
       "      <th>0</th>\n",
       "      <td>-1.381195</td>\n",
       "      <td>1.289422</td>\n",
       "      <td>-0.045376</td>\n",
       "      <td>-0.737644</td>\n",
       "      <td>-0.872454</td>\n",
       "      <td>-0.822910</td>\n",
       "      <td>-0.873927</td>\n",
       "      <td>0.367714</td>\n",
       "      <td>-0.013262</td>\n",
       "      <td>-0.418878</td>\n",
       "      <td>-0.726412</td>\n",
       "      <td>0.0</td>\n",
       "      <td>1.0</td>\n",
       "      <td>0.0</td>\n",
       "      <td>0.0</td>\n",
       "      <td>0.0</td>\n",
       "    </tr>\n",
       "    <tr>\n",
       "      <th>1</th>\n",
       "      <td>0.483377</td>\n",
       "      <td>-0.640792</td>\n",
       "      <td>-0.840169</td>\n",
       "      <td>1.587216</td>\n",
       "      <td>1.246544</td>\n",
       "      <td>1.394248</td>\n",
       "      <td>1.371062</td>\n",
       "      <td>0.930745</td>\n",
       "      <td>-0.493012</td>\n",
       "      <td>-0.224283</td>\n",
       "      <td>-0.603529</td>\n",
       "      <td>1.0</td>\n",
       "      <td>0.0</td>\n",
       "      <td>0.0</td>\n",
       "      <td>0.0</td>\n",
       "      <td>0.0</td>\n",
       "    </tr>\n",
       "    <tr>\n",
       "      <th>2</th>\n",
       "      <td>0.678333</td>\n",
       "      <td>-0.729807</td>\n",
       "      <td>1.464730</td>\n",
       "      <td>-0.590019</td>\n",
       "      <td>-0.369162</td>\n",
       "      <td>0.015823</td>\n",
       "      <td>-0.339775</td>\n",
       "      <td>-1.127069</td>\n",
       "      <td>-0.246986</td>\n",
       "      <td>-1.169214</td>\n",
       "      <td>1.058197</td>\n",
       "      <td>1.0</td>\n",
       "      <td>0.0</td>\n",
       "      <td>0.0</td>\n",
       "      <td>0.0</td>\n",
       "      <td>0.0</td>\n",
       "    </tr>\n",
       "    <tr>\n",
       "      <th>3</th>\n",
       "      <td>0.773311</td>\n",
       "      <td>-0.781342</td>\n",
       "      <td>0.590458</td>\n",
       "      <td>-0.261713</td>\n",
       "      <td>-0.333885</td>\n",
       "      <td>-0.394696</td>\n",
       "      <td>-0.254620</td>\n",
       "      <td>0.395713</td>\n",
       "      <td>-0.148576</td>\n",
       "      <td>0.477720</td>\n",
       "      <td>-0.328661</td>\n",
       "      <td>1.0</td>\n",
       "      <td>0.0</td>\n",
       "      <td>0.0</td>\n",
       "      <td>0.0</td>\n",
       "      <td>0.0</td>\n",
       "    </tr>\n",
       "    <tr>\n",
       "      <th>4</th>\n",
       "      <td>0.683331</td>\n",
       "      <td>-0.725122</td>\n",
       "      <td>1.623688</td>\n",
       "      <td>-0.601793</td>\n",
       "      <td>-0.543198</td>\n",
       "      <td>-0.025760</td>\n",
       "      <td>-0.450734</td>\n",
       "      <td>-0.754294</td>\n",
       "      <td>-0.222384</td>\n",
       "      <td>-1.406035</td>\n",
       "      <td>0.300637</td>\n",
       "      <td>1.0</td>\n",
       "      <td>0.0</td>\n",
       "      <td>0.0</td>\n",
       "      <td>0.0</td>\n",
       "      <td>0.0</td>\n",
       "    </tr>\n",
       "  </tbody>\n",
       "</table>\n",
       "</div>"
      ],
      "text/plain": [
       "   longitude  latitude  housing_median_age  total_rooms  total_bedrooms  \\\n",
       "0  -1.381195  1.289422           -0.045376    -0.737644       -0.872454   \n",
       "1   0.483377 -0.640792           -0.840169     1.587216        1.246544   \n",
       "2   0.678333 -0.729807            1.464730    -0.590019       -0.369162   \n",
       "3   0.773311 -0.781342            0.590458    -0.261713       -0.333885   \n",
       "4   0.683331 -0.725122            1.623688    -0.601793       -0.543198   \n",
       "\n",
       "   population  households  median_income  long_lat  house_population  \\\n",
       "0   -0.822910   -0.873927       0.367714 -0.013262         -0.418878   \n",
       "1    1.394248    1.371062       0.930745 -0.493012         -0.224283   \n",
       "2    0.015823   -0.339775      -1.127069 -0.246986         -1.169214   \n",
       "3   -0.394696   -0.254620       0.395713 -0.148576          0.477720   \n",
       "4   -0.025760   -0.450734      -0.754294 -0.222384         -1.406035   \n",
       "\n",
       "   bedrooms_per_room  <1H OCEAN  INLAND  ISLAND  NEAR BAY  NEAR OCEAN  \n",
       "0          -0.726412        0.0     1.0     0.0       0.0         0.0  \n",
       "1          -0.603529        1.0     0.0     0.0       0.0         0.0  \n",
       "2           1.058197        1.0     0.0     0.0       0.0         0.0  \n",
       "3          -0.328661        1.0     0.0     0.0       0.0         0.0  \n",
       "4           0.300637        1.0     0.0     0.0       0.0         0.0  "
      ]
     },
     "execution_count": 78,
     "metadata": {},
     "output_type": "execute_result"
    }
   ],
   "source": [
    "X_train_tr.head()"
   ]
  },
  {
   "cell_type": "code",
   "execution_count": 79,
   "metadata": {},
   "outputs": [
    {
     "name": "stdout",
     "output_type": "stream",
     "text": [
      "Overwriting housing_project.py\n"
     ]
    }
   ],
   "source": [
    "%%writefile housing_project.py\n",
    "import pandas as pd\n",
    "import numpy as np\n",
    "import seaborn as sns\n",
    "import matplotlib.pyplot as plt\n",
    "from sklearn.model_selection import train_test_split\n",
    "\n",
    "from sklearn.preprocessing import StandardScaler\n",
    "# to scale numerical values\n",
    "from sklearn.impute import SimpleImputer\n",
    "# to impute missing values in Data\n",
    "from sklearn.preprocessing import OneHotEncoder, OrdinalEncoder\n",
    "# to convert categorical features into numberical feature\n",
    "\n",
    "from sklearn.pipeline import Pipeline\n",
    "# to build a data preprocessing pipeline\n",
    "from sklearn.compose import ColumnTransformer\n",
    "import os\n",
    "\n",
    "\n",
    "from sklearn.linear_model import LinearRegression, SGDRegressor\n",
    "from sklearn.tree import DecisionTreeRegressor\n",
    "from sklearn.svm import SVR\n",
    "from sklearn.ensemble import RandomForestRegressor\n",
    "from sklearn.neighbors import KNeighborsRegressor\n",
    "\n",
    "\n",
    "from sklearn.metrics import mean_squared_error, r2_score\n",
    "\n",
    "from sklearn.base import BaseEstimator, TransformerMixin\n",
    "\n",
    "class Add_Features(BaseEstimator, TransformerMixin):\n",
    "    def __init__(self, add_rooms=True): \n",
    "        self.add_rooms = add_rooms # add_rooms -> is hyper parameter tunining\n",
    "        self.ln  = 0 # longitude index\n",
    "        self.lt  = 1 # latitude index\n",
    "        self.pop = 5 # population index\n",
    "        self.hs  = 6 # households\n",
    "        self.rm  = 3 # total rooms\n",
    "        self.bd  = 4 # total bedrooms\n",
    "        \n",
    "    def fit(self, X, y=None):\n",
    "        return self\n",
    "    \n",
    "    def transform(self, X, y=None):\n",
    "        ln_lat = X[:, self.ln] + X[:, self.lt]\n",
    "        hs_pop = X[:, self.hs] / X[:, self.pop]\n",
    "        if self.add_rooms:\n",
    "            bd_rm  = X[:, self.bd] / X[:, self.rm]\n",
    "            return np.c_[X, ln_lat, hs_pop, bd_rm]\n",
    "        \n",
    "        return np.c_[X, ln_lat, hs_pop]\n",
    "\n",
    "def rmse(y, y_hat):\n",
    "    return np.sqrt(mean_squared_error(y, y_hat))\n",
    "\n",
    "def model_report(models, X_train, X_test, y_train, y_test):\n",
    "    for name, model in models:\n",
    "        model.fit(X_train, y_train)\n",
    "        y_hat_train = model.predict(X_train)\n",
    "        y_hat_test  = model.predict(X_test)\n",
    "        print(\"_\"*80)\n",
    "        print(f\"Report For {name}\".center(80))\n",
    "        print()\n",
    "        print(f\"Training RMSE Error: {rmse(y_train, y_hat_train):.2f}\" )\n",
    "        print(f\"Test     RMSE Error: {rmse(y_test, y_hat_test):.2f}\")\n",
    "        print()\n",
    "        print(f\"Training Accuracy: {r2_score(y_train, y_hat_train):.2f}\")\n",
    "        print(f\"Test     Accuracy: {r2_score(y_test, y_hat_test):.2f}\")\n",
    "        print('\\n\\n')\n",
    "        \n",
    "def load_data():\n",
    "    data_root_dir = \"C:\\\\Users\\\\sachin\\\\OneDrive - Grras Solution Pvt. Ltd\\\\ML_BATCH_2021\\\\MachineLearning\\\\Notebooks\\\\datasets\"\n",
    "    data_path = os.path.join(data_root_dir, 'housing\\housing.csv')\n",
    "    housing = pd.read_csv(data_path)\n",
    "    X = housing.drop(['median_house_value'], axis=1).copy()\n",
    "    y = housing['median_house_value']\n",
    "    return X, y\n",
    "\n",
    "\n",
    "\n",
    "\n",
    "\n",
    "if __name__ == '__main__':\n",
    "\n",
    "    # to randomly split data into train and test part\n",
    "    X, y = load_data()\n",
    "    X_train, X_test, y_train, y_test = train_test_split(X, y, test_size=0.2, random_state=123)\n",
    "\n",
    "    num_features = [ 'longitude', 'latitude', 'housing_median_age', 'total_rooms',\n",
    "           'total_bedrooms', 'population', 'households', 'median_income']\n",
    "\n",
    "    cat_features = [ 'ocean_proximity' ]\n",
    "\n",
    "    #drop_features = ['longitude', 'latitude']\n",
    "\n",
    "    #pass_through =  [ 'median_income']\n",
    "\n",
    "    num_pipeline = Pipeline([\n",
    "        ('imputer', SimpleImputer(strategy='median')), #T1\n",
    "        ('add features', Add_Features()),\n",
    "        ('standard scaler', StandardScaler()), #T2\n",
    "    ])\n",
    "\n",
    "\n",
    "    final_pipeline = ColumnTransformer([\n",
    "        # (name, Transformer, column_list)\n",
    "        (\"numerical pipeline\", num_pipeline, num_features),\n",
    "        (\"categorical pipeline\", OneHotEncoder(), cat_features),\n",
    "        # ('remove features', 'drop', drop_features),\n",
    "        # ('pass throgh', 'passthrough', pass_through )\n",
    "    ])\n",
    "\n",
    "    X_train_tr = final_pipeline.fit_transform(X_train)\n",
    "    # cat_col = list(final_pipeline.named_transformers_['categorical pipeline'].categories_[0])\n",
    "    # columns = num_features + list(cat_col) #+ pass_through\n",
    "\n",
    "    #X_train_tr = pd.DataFrame(X_train_tr, columns=columns)\n",
    "    X_test_tr  =  final_pipeline.transform(X_test)\n",
    "    #X_test_tr = pd.DataFrame(X_test_tr, columns=columns)\n",
    "    \n",
    "    models = [\n",
    "        ('Linear Regression', LinearRegression()),\n",
    "        ('SGD Regressor', SGDRegressor(max_iter=10000)),\n",
    "        ('Decision Tree', DecisionTreeRegressor(max_depth=7)),\n",
    "        ('Support Vector Machines', SVR(kernel='linear')),\n",
    "        ('Random Forest', RandomForestRegressor(max_depth=9)),\n",
    "        ('K-Nearest Neighbors', KNeighborsRegressor(n_neighbors=51))\n",
    "    ]\n",
    "\n",
    "    model_report(models, X_train_tr, X_test_tr, y_train, y_test)"
   ]
  },
  {
   "cell_type": "markdown",
   "metadata": {},
   "source": [
    "#### Tuesday \n",
    "\n",
    "    Model Evaluation -> Cross Validation ( X_train, X_val, X_test)\n",
    "    \n",
    "    Hyper Parameter Tuning -> GridSearcCV, RandomizedSearch\n",
    "    \n",
    "    Model Deploy\n",
    "    \n",
    "    "
   ]
  },
  {
   "cell_type": "code",
   "execution_count": null,
   "metadata": {},
   "outputs": [],
   "source": []
  }
 ],
 "metadata": {
  "kernelspec": {
   "display_name": "Python 3",
   "language": "python",
   "name": "python3"
  },
  "language_info": {
   "codemirror_mode": {
    "name": "ipython",
    "version": 3
   },
   "file_extension": ".py",
   "mimetype": "text/x-python",
   "name": "python",
   "nbconvert_exporter": "python",
   "pygments_lexer": "ipython3",
   "version": "3.8.3"
  }
 },
 "nbformat": 4,
 "nbformat_minor": 4
}
