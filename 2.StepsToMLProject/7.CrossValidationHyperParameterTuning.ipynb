{
 "cells": [
  {
   "cell_type": "markdown",
   "metadata": {},
   "source": [
    "##### Feature Selection \n",
    "\n",
    "    EDA \n",
    "    \n",
    "        Exploratory Data Analysis\n",
    "        "
   ]
  },
  {
   "cell_type": "code",
   "execution_count": 3,
   "metadata": {},
   "outputs": [],
   "source": [
    "import matplotlib.pyplot as plt\n",
    "import pandas as pd\n",
    "import numpy as np\n",
    "import seaborn as sns"
   ]
  },
  {
   "cell_type": "code",
   "execution_count": 4,
   "metadata": {},
   "outputs": [],
   "source": [
    "df = sns.load_dataset('titanic')"
   ]
  },
  {
   "cell_type": "code",
   "execution_count": 5,
   "metadata": {},
   "outputs": [
    {
     "data": {
      "text/html": [
       "<div>\n",
       "<style scoped>\n",
       "    .dataframe tbody tr th:only-of-type {\n",
       "        vertical-align: middle;\n",
       "    }\n",
       "\n",
       "    .dataframe tbody tr th {\n",
       "        vertical-align: top;\n",
       "    }\n",
       "\n",
       "    .dataframe thead th {\n",
       "        text-align: right;\n",
       "    }\n",
       "</style>\n",
       "<table border=\"1\" class=\"dataframe\">\n",
       "  <thead>\n",
       "    <tr style=\"text-align: right;\">\n",
       "      <th></th>\n",
       "      <th>survived</th>\n",
       "      <th>pclass</th>\n",
       "      <th>sex</th>\n",
       "      <th>age</th>\n",
       "      <th>sibsp</th>\n",
       "      <th>parch</th>\n",
       "      <th>fare</th>\n",
       "      <th>embarked</th>\n",
       "      <th>class</th>\n",
       "      <th>who</th>\n",
       "      <th>adult_male</th>\n",
       "      <th>deck</th>\n",
       "      <th>embark_town</th>\n",
       "      <th>alive</th>\n",
       "      <th>alone</th>\n",
       "    </tr>\n",
       "  </thead>\n",
       "  <tbody>\n",
       "    <tr>\n",
       "      <th>0</th>\n",
       "      <td>0</td>\n",
       "      <td>3</td>\n",
       "      <td>male</td>\n",
       "      <td>22.0</td>\n",
       "      <td>1</td>\n",
       "      <td>0</td>\n",
       "      <td>7.2500</td>\n",
       "      <td>S</td>\n",
       "      <td>Third</td>\n",
       "      <td>man</td>\n",
       "      <td>True</td>\n",
       "      <td>NaN</td>\n",
       "      <td>Southampton</td>\n",
       "      <td>no</td>\n",
       "      <td>False</td>\n",
       "    </tr>\n",
       "    <tr>\n",
       "      <th>1</th>\n",
       "      <td>1</td>\n",
       "      <td>1</td>\n",
       "      <td>female</td>\n",
       "      <td>38.0</td>\n",
       "      <td>1</td>\n",
       "      <td>0</td>\n",
       "      <td>71.2833</td>\n",
       "      <td>C</td>\n",
       "      <td>First</td>\n",
       "      <td>woman</td>\n",
       "      <td>False</td>\n",
       "      <td>C</td>\n",
       "      <td>Cherbourg</td>\n",
       "      <td>yes</td>\n",
       "      <td>False</td>\n",
       "    </tr>\n",
       "    <tr>\n",
       "      <th>2</th>\n",
       "      <td>1</td>\n",
       "      <td>3</td>\n",
       "      <td>female</td>\n",
       "      <td>26.0</td>\n",
       "      <td>0</td>\n",
       "      <td>0</td>\n",
       "      <td>7.9250</td>\n",
       "      <td>S</td>\n",
       "      <td>Third</td>\n",
       "      <td>woman</td>\n",
       "      <td>False</td>\n",
       "      <td>NaN</td>\n",
       "      <td>Southampton</td>\n",
       "      <td>yes</td>\n",
       "      <td>True</td>\n",
       "    </tr>\n",
       "    <tr>\n",
       "      <th>3</th>\n",
       "      <td>1</td>\n",
       "      <td>1</td>\n",
       "      <td>female</td>\n",
       "      <td>35.0</td>\n",
       "      <td>1</td>\n",
       "      <td>0</td>\n",
       "      <td>53.1000</td>\n",
       "      <td>S</td>\n",
       "      <td>First</td>\n",
       "      <td>woman</td>\n",
       "      <td>False</td>\n",
       "      <td>C</td>\n",
       "      <td>Southampton</td>\n",
       "      <td>yes</td>\n",
       "      <td>False</td>\n",
       "    </tr>\n",
       "    <tr>\n",
       "      <th>4</th>\n",
       "      <td>0</td>\n",
       "      <td>3</td>\n",
       "      <td>male</td>\n",
       "      <td>35.0</td>\n",
       "      <td>0</td>\n",
       "      <td>0</td>\n",
       "      <td>8.0500</td>\n",
       "      <td>S</td>\n",
       "      <td>Third</td>\n",
       "      <td>man</td>\n",
       "      <td>True</td>\n",
       "      <td>NaN</td>\n",
       "      <td>Southampton</td>\n",
       "      <td>no</td>\n",
       "      <td>True</td>\n",
       "    </tr>\n",
       "  </tbody>\n",
       "</table>\n",
       "</div>"
      ],
      "text/plain": [
       "   survived  pclass     sex   age  sibsp  parch     fare embarked  class  \\\n",
       "0         0       3    male  22.0      1      0   7.2500        S  Third   \n",
       "1         1       1  female  38.0      1      0  71.2833        C  First   \n",
       "2         1       3  female  26.0      0      0   7.9250        S  Third   \n",
       "3         1       1  female  35.0      1      0  53.1000        S  First   \n",
       "4         0       3    male  35.0      0      0   8.0500        S  Third   \n",
       "\n",
       "     who  adult_male deck  embark_town alive  alone  \n",
       "0    man        True  NaN  Southampton    no  False  \n",
       "1  woman       False    C    Cherbourg   yes  False  \n",
       "2  woman       False  NaN  Southampton   yes   True  \n",
       "3  woman       False    C  Southampton   yes  False  \n",
       "4    man        True  NaN  Southampton    no   True  "
      ]
     },
     "execution_count": 5,
     "metadata": {},
     "output_type": "execute_result"
    }
   ],
   "source": [
    "df.head()"
   ]
  },
  {
   "cell_type": "code",
   "execution_count": 15,
   "metadata": {},
   "outputs": [
    {
     "data": {
      "text/plain": [
       "male      577\n",
       "female    314\n",
       "Name: sex, dtype: int64"
      ]
     },
     "execution_count": 15,
     "metadata": {},
     "output_type": "execute_result"
    }
   ],
   "source": [
    "df['sex'].value_counts()"
   ]
  },
  {
   "cell_type": "code",
   "execution_count": 16,
   "metadata": {},
   "outputs": [
    {
     "data": {
      "text/html": [
       "<div>\n",
       "<style scoped>\n",
       "    .dataframe tbody tr th:only-of-type {\n",
       "        vertical-align: middle;\n",
       "    }\n",
       "\n",
       "    .dataframe tbody tr th {\n",
       "        vertical-align: top;\n",
       "    }\n",
       "\n",
       "    .dataframe thead tr th {\n",
       "        text-align: left;\n",
       "    }\n",
       "</style>\n",
       "<table border=\"1\" class=\"dataframe\">\n",
       "  <thead>\n",
       "    <tr>\n",
       "      <th>sex</th>\n",
       "      <th colspan=\"2\" halign=\"left\">female</th>\n",
       "      <th colspan=\"2\" halign=\"left\">male</th>\n",
       "    </tr>\n",
       "    <tr>\n",
       "      <th>survived</th>\n",
       "      <th>1</th>\n",
       "      <th>0</th>\n",
       "      <th>0</th>\n",
       "      <th>1</th>\n",
       "    </tr>\n",
       "  </thead>\n",
       "  <tbody>\n",
       "    <tr>\n",
       "      <th>survived</th>\n",
       "      <td>233</td>\n",
       "      <td>81</td>\n",
       "      <td>468</td>\n",
       "      <td>109</td>\n",
       "    </tr>\n",
       "  </tbody>\n",
       "</table>\n",
       "</div>"
      ],
      "text/plain": [
       "sex      female     male     \n",
       "survived      1   0    0    1\n",
       "survived    233  81  468  109"
      ]
     },
     "execution_count": 16,
     "metadata": {},
     "output_type": "execute_result"
    }
   ],
   "source": [
    "df.groupby('sex').agg({'survived': 'value_counts'}).T"
   ]
  },
  {
   "cell_type": "code",
   "execution_count": 19,
   "metadata": {},
   "outputs": [],
   "source": [
    "fe = 233 / 314 # normal -> \n",
    "ml = 109 / 577 # uniform -> "
   ]
  },
  {
   "cell_type": "code",
   "execution_count": 20,
   "metadata": {},
   "outputs": [
    {
     "name": "stdout",
     "output_type": "stream",
     "text": [
      "Female Survial Percentage:  0.7420382165605095\n",
      "Male Survial Percentage:  0.18890814558058924\n"
     ]
    }
   ],
   "source": [
    "print(\"Female Survial Percentage: \", fe)\n",
    "print(\"Male Survial Percentage: \", ml)"
   ]
  },
  {
   "cell_type": "code",
   "execution_count": 25,
   "metadata": {},
   "outputs": [
    {
     "data": {
      "text/plain": [
       "True     537\n",
       "False    354\n",
       "Name: alone, dtype: int64"
      ]
     },
     "execution_count": 25,
     "metadata": {},
     "output_type": "execute_result"
    }
   ],
   "source": [
    "df['alone'].value_counts()"
   ]
  },
  {
   "cell_type": "code",
   "execution_count": 24,
   "metadata": {},
   "outputs": [
    {
     "data": {
      "text/html": [
       "<div>\n",
       "<style scoped>\n",
       "    .dataframe tbody tr th:only-of-type {\n",
       "        vertical-align: middle;\n",
       "    }\n",
       "\n",
       "    .dataframe tbody tr th {\n",
       "        vertical-align: top;\n",
       "    }\n",
       "\n",
       "    .dataframe thead th {\n",
       "        text-align: right;\n",
       "    }\n",
       "</style>\n",
       "<table border=\"1\" class=\"dataframe\">\n",
       "  <thead>\n",
       "    <tr style=\"text-align: right;\">\n",
       "      <th></th>\n",
       "      <th></th>\n",
       "      <th>pclass</th>\n",
       "    </tr>\n",
       "    <tr>\n",
       "      <th>alone</th>\n",
       "      <th>survived</th>\n",
       "      <th></th>\n",
       "    </tr>\n",
       "  </thead>\n",
       "  <tbody>\n",
       "    <tr>\n",
       "      <th rowspan=\"2\" valign=\"top\">False</th>\n",
       "      <th>0</th>\n",
       "      <td>175</td>\n",
       "    </tr>\n",
       "    <tr>\n",
       "      <th>1</th>\n",
       "      <td>179</td>\n",
       "    </tr>\n",
       "    <tr>\n",
       "      <th rowspan=\"2\" valign=\"top\">True</th>\n",
       "      <th>0</th>\n",
       "      <td>374</td>\n",
       "    </tr>\n",
       "    <tr>\n",
       "      <th>1</th>\n",
       "      <td>163</td>\n",
       "    </tr>\n",
       "  </tbody>\n",
       "</table>\n",
       "</div>"
      ],
      "text/plain": [
       "                pclass\n",
       "alone survived        \n",
       "False 0            175\n",
       "      1            179\n",
       "True  0            374\n",
       "      1            163"
      ]
     },
     "execution_count": 24,
     "metadata": {},
     "output_type": "execute_result"
    }
   ],
   "source": [
    "df.groupby(['alone', 'survived'])['pclass',].count()"
   ]
  },
  {
   "cell_type": "code",
   "execution_count": 27,
   "metadata": {},
   "outputs": [
    {
     "name": "stdout",
     "output_type": "stream",
     "text": [
      "0.2844677137870855\n"
     ]
    }
   ],
   "source": [
    "print(163 /  573)"
   ]
  },
  {
   "cell_type": "markdown",
   "metadata": {},
   "source": [
    "Evaluation \n",
    "\n",
    "    Metrices \n",
    "    \n",
    "        Regression --> Mean Absolute Error, Mean Squared Error, R2 Score"
   ]
  },
  {
   "cell_type": "markdown",
   "metadata": {},
   "source": [
    "    tss - rss -> explained variance by model"
   ]
  },
  {
   "cell_type": "markdown",
   "metadata": {},
   "source": [
    "### Cross Validation and Hyper Paramter Tunining"
   ]
  },
  {
   "cell_type": "code",
   "execution_count": 28,
   "metadata": {},
   "outputs": [],
   "source": [
    "def model_report(models, X_train, X_test, y_train, y_test):\n",
    "    for name, model in models:\n",
    "        model.fit(X_train, y_train)\n",
    "        y_hat_train = model.predict(X_train)\n",
    "        y_hat_test  = model.predict(X_test)\n",
    "        print(\"_\"*80)\n",
    "        print(f\"Report For {name}\".center(80))\n",
    "        print()\n",
    "        print(f\"Training RMSE Error: {rmse(y_train, y_hat_train):.2f}\" )\n",
    "        print(f\"Test     RMSE Error: {rmse(y_test, y_hat_test):.2f}\")\n",
    "        print()\n",
    "        print(f\"Training Accuracy: {r2_score(y_train, y_hat_train):.2f}\")\n",
    "        print(f\"Test     Accuracy: {r2_score(y_test, y_hat_test):.2f}\")\n",
    "        print('\\n\\n')"
   ]
  },
  {
   "cell_type": "markdown",
   "metadata": {},
   "source": [
    "#### Steps to ML Project \n",
    "\n",
    "    1. Problem Understanding / Look at the Big Picture\n",
    "    2. Load Data\n",
    "    3. EDA & Feature Engineering\n",
    "    4. Data Transformation Pipline / Preparing Data For ML Model\n",
    "    5. Select and Train Your Model / Hypothesis function eg. y = H(x) = b + wx\n",
    "    6. Evaluation of Model / Error metric / accuracy metric eg. MSE, RMSE, R2 Score\n",
    "    7. Fine Tunining Model \n",
    "    8. Deploy & Maintain"
   ]
  },
  {
   "cell_type": "code",
   "execution_count": null,
   "metadata": {},
   "outputs": [],
   "source": []
  },
  {
   "cell_type": "markdown",
   "metadata": {},
   "source": [
    "#### jupyter shortcut\n",
    "\n",
    "    indent -> ctrl + ] \n",
    "    \n",
    "    dedent -> ctrl + ["
   ]
  },
  {
   "cell_type": "code",
   "execution_count": null,
   "metadata": {},
   "outputs": [],
   "source": []
  },
  {
   "cell_type": "code",
   "execution_count": 30,
   "metadata": {},
   "outputs": [],
   "source": [
    "import pandas as pd\n",
    "import numpy as np\n",
    "import seaborn as sns\n",
    "import matplotlib.pyplot as plt\n",
    "from sklearn.model_selection import train_test_split\n",
    "\n",
    "from sklearn.preprocessing import StandardScaler\n",
    "# to scale numerical values\n",
    "from sklearn.impute import SimpleImputer\n",
    "# to impute missing values in Data\n",
    "from sklearn.preprocessing import OneHotEncoder, OrdinalEncoder\n",
    "# to convert categorical features into numberical feature\n",
    "\n",
    "from sklearn.pipeline import Pipeline\n",
    "# to build a data preprocessing pipeline\n",
    "from sklearn.compose import ColumnTransformer\n",
    "import os\n",
    "\n",
    "\n",
    "\n",
    "from sklearn.ensemble import RandomForestRegressor\n",
    "\n",
    "\n",
    "from sklearn.metrics import mean_squared_error, r2_score\n",
    "\n",
    "from sklearn.base import BaseEstimator, TransformerMixin\n",
    "\n",
    "class Add_Features(BaseEstimator, TransformerMixin):\n",
    "    def __init__(self, add_rooms=True): \n",
    "        self.add_rooms = add_rooms # add_rooms -> is hyper parameter tunining\n",
    "        self.ln  = 0 # longitude index\n",
    "        self.lt  = 1 # latitude index\n",
    "        self.pop = 5 # population index\n",
    "        self.hs  = 6 # households\n",
    "        self.rm  = 3 # total rooms\n",
    "        self.bd  = 4 # total bedrooms\n",
    "        \n",
    "    def fit(self, X, y=None):\n",
    "        return self\n",
    "    \n",
    "    def transform(self, X, y=None):\n",
    "        ln_lat = X[:, self.ln] + X[:, self.lt]\n",
    "        hs_pop = X[:, self.hs] / X[:, self.pop]\n",
    "        if self.add_rooms:\n",
    "            bd_rm  = X[:, self.bd] / X[:, self.rm]\n",
    "            return np.c_[X, ln_lat, hs_pop, bd_rm]\n",
    "        \n",
    "        return np.c_[X, ln_lat, hs_pop]\n",
    "\n",
    "def rmse(y, y_hat):\n",
    "    return np.sqrt(mean_squared_error(y, y_hat))\n",
    "\n",
    "\n",
    "        \n",
    "def load_data():\n",
    "    data_root_dir = \"C:\\\\Users\\\\sachin\\\\OneDrive - Grras Solution Pvt. Ltd\\\\ML_BATCH_2021\\\\MachineLearning\\\\Notebooks\\\\datasets\"\n",
    "    data_path = os.path.join(data_root_dir, 'housing\\housing.csv')\n",
    "    housing = pd.read_csv(data_path)\n",
    "    X = housing.drop(['median_house_value'], axis=1).copy()\n",
    "    y = housing['median_house_value']\n",
    "    return X, y\n",
    "\n",
    "\n",
    "\n",
    "    # to randomly split data into train and test part\n",
    "X, y = load_data()\n",
    "X_train, X_test, y_train, y_test = train_test_split(X, y, test_size=0.2, random_state=123)\n",
    "\n",
    "num_features = [ 'longitude', 'latitude', 'housing_median_age', 'total_rooms',\n",
    "       'total_bedrooms', 'population', 'households', 'median_income']\n",
    "\n",
    "cat_features = [ 'ocean_proximity' ]\n",
    "\n",
    "num_pipeline = Pipeline([\n",
    "    ('imputer', SimpleImputer(strategy='median')), #T1\n",
    "    ('add features', Add_Features()),\n",
    "    ('standard scaler', StandardScaler()), #T2\n",
    "])\n",
    "\n",
    "\n",
    "final_pipeline = ColumnTransformer([\n",
    "    # (name, Transformer, column_list)\n",
    "    (\"numerical pipeline\", num_pipeline, num_features),\n",
    "    (\"categorical pipeline\", OneHotEncoder(), cat_features),\n",
    "    # (\"ordinal pipeline\", OrdinalEncoder(), ord_features)\n",
    "    # ('remove features', 'drop', drop_features),\n",
    "    # ('pass throgh', 'passthrough', pass_through )\n",
    "])\n",
    "\n",
    "X_train_tr = final_pipeline.fit_transform(X_train)\n",
    "X_test_tr  =  final_pipeline.transform(X_test)\n"
   ]
  },
  {
   "cell_type": "code",
   "execution_count": 33,
   "metadata": {},
   "outputs": [],
   "source": [
    "from sklearn.ensemble import RandomForestRegressor\n",
    "from sklearn.metrics import mean_squared_error\n",
    "from sklearn.metrics import r2_score"
   ]
  },
  {
   "cell_type": "markdown",
   "metadata": {},
   "source": [
    "    To check Overfitting and Underfitting\n",
    "    \n",
    "    \n",
    "        Underfit -> model is not able to understand underlaying logic between features and targets\n",
    "        \n",
    "                   training accuracy is very low or training error is very high\n",
    "                   \n",
    "        Overfit -> model is not able to generalize better means it is performing good on training but fails on test\n",
    "        \n",
    "                    training accuracy is very high but test accuracy is very low\n",
    "                    \n",
    "                    training error is very low but test error is very high"
   ]
  },
  {
   "cell_type": "code",
   "execution_count": 38,
   "metadata": {},
   "outputs": [],
   "source": [
    "import time"
   ]
  },
  {
   "cell_type": "code",
   "execution_count": 48,
   "metadata": {},
   "outputs": [],
   "source": [
    "def evaluate(model, X_train, y_train, X_test, y_test):\n",
    "    ts = time.monotonic()\n",
    "    model.fit(X_train, y_train)\n",
    "    te = time.monotonic()\n",
    "    print(f\"Fitting Time: {te - ts:5.2f} Seconds\")\n",
    "    print(\"\\n\")\n",
    "    y_train_hat = model.predict(X_train)\n",
    "    y_test_hat = model.predict(X_test)\n",
    "    train_error = np.sqrt(mean_squared_error(y_train, y_train_hat))\n",
    "    test_error  = np.sqrt(mean_squared_error(y_test, y_test_hat))\n",
    "    train_acc = r2_score(y_train, y_train_hat)\n",
    "    test_acc = r2_score(y_test, y_test_hat)\n",
    "    \n",
    "    print(f\"Train Error: {train_error:.2f}\")\n",
    "    print(f\"Test Error: {test_error:.2f}\")\n",
    "    \n",
    "    print(\"\\n\\n\")\n",
    "    print(f\"Train Accuracy: {train_acc:.2f}\")\n",
    "    print(f\"Test Accuracy: {test_acc:.2f}\")"
   ]
  },
  {
   "cell_type": "code",
   "execution_count": 49,
   "metadata": {},
   "outputs": [],
   "source": [
    "# intial Model \n",
    "forest = RandomForestRegressor()"
   ]
  },
  {
   "cell_type": "markdown",
   "metadata": {},
   "source": [
    "##### Evaluation \n",
    "\n",
    "    here we can see training error is about 18090 doller but test error is high 46111 doller\n",
    "    so it is sign of Overfitting\n",
    "    \n",
    "    same result we can see on Accuracy "
   ]
  },
  {
   "cell_type": "code",
   "execution_count": 47,
   "metadata": {},
   "outputs": [
    {
     "name": "stdout",
     "output_type": "stream",
     "text": [
      "Fitting Time: -17.05 Seconds\n",
      "\n",
      "\n",
      "Train Error: 18090.76\n",
      "Test Error: 46111.69\n",
      "\n",
      "\n",
      "\n",
      "Train Accuracy: 0.98\n",
      "Test Accuracy: 0.84\n"
     ]
    }
   ],
   "source": [
    "evaluate(forest, X_train_tr, y_train, X_test_tr, y_test)"
   ]
  },
  {
   "cell_type": "markdown",
   "metadata": {},
   "source": [
    "#### Tuning Model\n",
    "\n"
   ]
  },
  {
   "attachments": {
    "image.png": {
     "image/png": "[encoded data removed]"
    }
   },
   "cell_type": "markdown",
   "metadata": {},
   "source": [
    "![image.png](attachment:image.png)"
   ]
  },
  {
   "attachments": {
    "image.png": {
     "image/png": "[encoded data removed]"
    }
   },
   "cell_type": "markdown",
   "metadata": {},
   "source": [
    "![image.png](attachment:image.png)"
   ]
  },
  {
   "cell_type": "markdown",
   "metadata": {},
   "source": [
    "[cross validation](https://scikit-learn.org/stable/modules/cross_validation.html)"
   ]
  },
  {
   "cell_type": "code",
   "execution_count": null,
   "metadata": {},
   "outputs": [],
   "source": []
  },
  {
   "cell_type": "code",
   "execution_count": 50,
   "metadata": {},
   "outputs": [],
   "source": [
    "from sklearn.model_selection import KFold"
   ]
  },
  {
   "cell_type": "code",
   "execution_count": 55,
   "metadata": {},
   "outputs": [],
   "source": [
    "from sklearn.ensemble import RandomForestRegressor"
   ]
  },
  {
   "cell_type": "code",
   "execution_count": 59,
   "metadata": {},
   "outputs": [
    {
     "name": "stdout",
     "output_type": "stream",
     "text": [
      "                   \n",
      "Split no 1                    \n",
      "Fitting Time: 13.56 Seconds\n",
      "\n",
      "\n",
      "Train Error: 18454.50\n",
      "Test Error: 47587.02\n",
      "\n",
      "\n",
      "\n",
      "Train Accuracy: 0.97\n",
      "Test Accuracy: 0.83\n",
      "\n",
      "\n",
      "____________________________________________________________________________________________________\n",
      "                   \n",
      "Split no 1                    \n",
      "Fitting Time: 14.67 Seconds\n",
      "\n",
      "\n",
      "Train Error: 18325.02\n",
      "Test Error: 48522.91\n",
      "\n",
      "\n",
      "\n",
      "Train Accuracy: 0.97\n",
      "Test Accuracy: 0.82\n",
      "\n",
      "\n",
      "____________________________________________________________________________________________________\n",
      "                   \n",
      "Split no 1                    \n",
      "Fitting Time: 16.34 Seconds\n",
      "\n",
      "\n",
      "Train Error: 18508.76\n",
      "Test Error: 48502.86\n",
      "\n",
      "\n",
      "\n",
      "Train Accuracy: 0.97\n",
      "Test Accuracy: 0.83\n",
      "\n",
      "\n",
      "____________________________________________________________________________________________________\n",
      "                   \n",
      "Split no 1                    \n",
      "Fitting Time: 17.50 Seconds\n",
      "\n",
      "\n",
      "Train Error: 18228.64\n",
      "Test Error: 50377.03\n",
      "\n",
      "\n",
      "\n",
      "Train Accuracy: 0.98\n",
      "Test Accuracy: 0.81\n",
      "\n",
      "\n",
      "____________________________________________________________________________________________________\n",
      "                   \n",
      "Split no 1                    \n",
      "Fitting Time: 14.59 Seconds\n",
      "\n",
      "\n",
      "Train Error: 18155.84\n",
      "Test Error: 51074.42\n",
      "\n",
      "\n",
      "\n",
      "Train Accuracy: 0.98\n",
      "Test Accuracy: 0.80\n",
      "\n",
      "\n",
      "____________________________________________________________________________________________________\n"
     ]
    }
   ],
   "source": [
    "folds = KFold(n_splits=5)\n",
    "c = 1\n",
    "for tr_ixs, ts_ixs in folds.split(X_train_tr):\n",
    "    print(f\"\\nSplit no {c}\".center(50))\n",
    "    tr_X = X_train_tr[tr_ixs]\n",
    "    ts_X = X_train_tr[ts_ixs]\n",
    "    tr_y = y_train.values[tr_ixs]\n",
    "    ts_y = y_train.values[ts_ixs]\n",
    "    evaluate(RandomForestRegressor(), tr_X, tr_y, ts_X, ts_y)\n",
    "    print('\\n')\n",
    "    print(\"__\"*50)"
   ]
  },
  {
   "cell_type": "markdown",
   "metadata": {},
   "source": [
    "[scoring parameters](https://scikit-learn.org/stable/modules/model_evaluation.html#scoring-parameter)"
   ]
  },
  {
   "cell_type": "code",
   "execution_count": 60,
   "metadata": {},
   "outputs": [],
   "source": [
    "from sklearn.model_selection import cross_val_score"
   ]
  },
  {
   "cell_type": "code",
   "execution_count": 61,
   "metadata": {},
   "outputs": [],
   "source": [
    "model = RandomForestRegressor()\n"
   ]
  },
  {
   "cell_type": "markdown",
   "metadata": {},
   "source": [
    "    -10\n",
    "\n",
    "    -5\n",
    "\n",
    "    -5 > -10"
   ]
  },
  {
   "cell_type": "code",
   "execution_count": 62,
   "metadata": {},
   "outputs": [],
   "source": [
    "val_scores = cross_val_score(model, X_train_tr, y_train, cv=5, scoring=\"neg_mean_squared_error\")\n",
    "# greatest is best"
   ]
  },
  {
   "cell_type": "code",
   "execution_count": 63,
   "metadata": {},
   "outputs": [
    {
     "name": "stdout",
     "output_type": "stream",
     "text": [
      "[-2.25508523e+09 -2.36350702e+09 -2.31136638e+09 -2.55606135e+09\n",
      " -2.59288460e+09]\n"
     ]
    }
   ],
   "source": [
    "print(val_scores)"
   ]
  },
  {
   "cell_type": "code",
   "execution_count": 64,
   "metadata": {},
   "outputs": [
    {
     "data": {
      "text/plain": [
       "array([47487.73767432, 48615.91321264, 48076.67188256, 50557.50534612,\n",
       "       50920.3751186 ])"
      ]
     },
     "execution_count": 64,
     "metadata": {},
     "output_type": "execute_result"
    }
   ],
   "source": [
    "val_scores = np.sqrt(-val_scores)\n",
    "val_scores"
   ]
  },
  {
   "cell_type": "code",
   "execution_count": 66,
   "metadata": {},
   "outputs": [
    {
     "data": {
      "text/plain": [
       "47487.73767431909"
      ]
     },
     "execution_count": 66,
     "metadata": {},
     "output_type": "execute_result"
    }
   ],
   "source": [
    "val_scores[np.argmin(val_scores)]"
   ]
  },
  {
   "cell_type": "code",
   "execution_count": 67,
   "metadata": {},
   "outputs": [
    {
     "data": {
      "text/plain": [
       "49131.640646847445"
      ]
     },
     "execution_count": 67,
     "metadata": {},
     "output_type": "execute_result"
    }
   ],
   "source": [
    "val_scores.mean()"
   ]
  },
  {
   "cell_type": "code",
   "execution_count": 68,
   "metadata": {},
   "outputs": [
    {
     "data": {
      "text/plain": [
       "1364.8451937250113"
      ]
     },
     "execution_count": 68,
     "metadata": {},
     "output_type": "execute_result"
    }
   ],
   "source": [
    "val_scores.std()"
   ]
  },
  {
   "cell_type": "markdown",
   "metadata": {},
   "source": [
    "### Hyper Parameter Tunining"
   ]
  },
  {
   "cell_type": "markdown",
   "metadata": {},
   "source": [
    "[random forest](https://scikit-learn.org/stable/modules/generated/sklearn.ensemble.RandomForestRegressor.html)"
   ]
  },
  {
   "cell_type": "code",
   "execution_count": null,
   "metadata": {},
   "outputs": [],
   "source": [
    "n_estimators = [ 10, 20, 50, 100, 500, 1000, 1200, 15000]\n",
    "\n",
    "#  underfitting, underfitting, .......best fit............ Overfitting\n",
    "# n_estimators = [ 70, 80, 90, 100, 120, 130]\n",
    "\n",
    "max_depth = [10, 20, 50, 100, 150, 200]"
   ]
  },
  {
   "cell_type": "code",
   "execution_count": 71,
   "metadata": {},
   "outputs": [
    {
     "name": "stdout",
     "output_type": "stream",
     "text": [
      "Fitting Time: 17.45 Seconds\n",
      "\n",
      "\n",
      "Train Error: 17979.43\n",
      "Test Error: 46360.05\n",
      "\n",
      "\n",
      "\n",
      "Train Accuracy: 0.98\n",
      "Test Accuracy: 0.84\n"
     ]
    }
   ],
   "source": [
    "forest = RandomForestRegressor()\n",
    "evaluate(forest, X_train_tr, y_train, X_test_tr, y_test)\n",
    "# overfit or underfitting"
   ]
  },
  {
   "cell_type": "code",
   "execution_count": 72,
   "metadata": {},
   "outputs": [
    {
     "name": "stdout",
     "output_type": "stream",
     "text": [
      "Fitting Time:  0.34 Seconds\n",
      "\n",
      "\n",
      "Train Error: 33170.05\n",
      "Test Error: 57560.47\n",
      "\n",
      "\n",
      "\n",
      "Train Accuracy: 0.92\n",
      "Test Accuracy: 0.75\n"
     ]
    }
   ],
   "source": [
    "forest = RandomForestRegressor(n_estimators=2)\n",
    "evaluate(forest, X_train_tr, y_train, X_test_tr, y_test)\n",
    "# overfit or underfitting"
   ]
  },
  {
   "cell_type": "code",
   "execution_count": 73,
   "metadata": {},
   "outputs": [
    {
     "name": "stdout",
     "output_type": "stream",
     "text": [
      "Fitting Time:  1.66 Seconds\n",
      "\n",
      "\n",
      "Train Error: 21571.83\n",
      "Test Error: 48022.28\n",
      "\n",
      "\n",
      "\n",
      "Train Accuracy: 0.97\n",
      "Test Accuracy: 0.83\n"
     ]
    }
   ],
   "source": [
    "forest = RandomForestRegressor(n_estimators=10)\n",
    "evaluate(forest, X_train_tr, y_train, X_test_tr, y_test)\n",
    "# overfit or underfitting"
   ]
  },
  {
   "cell_type": "code",
   "execution_count": 75,
   "metadata": {},
   "outputs": [
    {
     "name": "stdout",
     "output_type": "stream",
     "text": [
      "Fitting Time:  9.98 Seconds\n",
      "\n",
      "\n",
      "Train Error: 17928.97\n",
      "Test Error: 46119.49\n",
      "\n",
      "\n",
      "\n",
      "Train Accuracy: 0.98\n",
      "Test Accuracy: 0.84\n"
     ]
    }
   ],
   "source": [
    "forest = RandomForestRegressor(n_estimators=200, n_jobs=-1)\n",
    "evaluate(forest, X_train_tr, y_train, X_test_tr, y_test)\n",
    "# overfit or underfitting"
   ]
  },
  {
   "cell_type": "code",
   "execution_count": 76,
   "metadata": {},
   "outputs": [],
   "source": [
    "from sklearn.model_selection import GridSearchCV\n"
   ]
  },
  {
   "cell_type": "markdown",
   "metadata": {},
   "source": [
    "    sparse matrix -> space saving"
   ]
  },
  {
   "cell_type": "markdown",
   "metadata": {},
   "source": [
    "    one hot coding -> 25 --> 25 new columns "
   ]
  },
  {
   "cell_type": "markdown",
   "metadata": {},
   "source": [
    "### `Curse of Dimensionality`"
   ]
  },
  {
   "cell_type": "markdown",
   "metadata": {},
   "source": [
    "    Test Accuracy will go high \n",
    "\n",
    "    Test data as a training data\n",
    "    \n",
    "    when you deploy model it will behave unusual \n",
    "    \n",
    "    MAE -> best fit line \n",
    "    \n",
    "    metric -> cost function -> \n",
    "    \n",
    "                wrong prediction -> J(theta) ---> High\n",
    "                \n",
    "                correct prediction -> J(theta) --> Low\n",
    "                \n",
    "                "
   ]
  },
  {
   "cell_type": "code",
   "execution_count": 77,
   "metadata": {},
   "outputs": [],
   "source": [
    "param_grid = [\n",
    "    {\n",
    "        'n_estimators': [ 10, 60, 100, 200, 350, 500 ],\n",
    "        'max_depth': [ 5, 10, 20, 30],\n",
    "        'max_features': [ 2, 4, 6],\n",
    "    }, \n",
    "    \n",
    "]\n"
   ]
  },
  {
   "cell_type": "code",
   "execution_count": 78,
   "metadata": {},
   "outputs": [],
   "source": [
    "forest = RandomForestRegressor(n_jobs=-1)\n",
    "# feature selection "
   ]
  },
  {
   "cell_type": "code",
   "execution_count": 79,
   "metadata": {},
   "outputs": [],
   "source": [
    "grid_search = GridSearchCV(forest, param_grid, cv=5,\n",
    "                      scoring=\"neg_mean_squared_error\", return_train_score=True)"
   ]
  },
  {
   "cell_type": "code",
   "execution_count": 80,
   "metadata": {},
   "outputs": [
    {
     "data": {
      "text/plain": [
       "GridSearchCV(cv=5, estimator=RandomForestRegressor(n_jobs=-1),\n",
       "             param_grid=[{'max_depth': [5, 10, 20, 30],\n",
       "                          'max_features': [2, 4, 6],\n",
       "                          'n_estimators': [10, 60, 100, 200, 350, 500]}],\n",
       "             return_train_score=True, scoring='neg_mean_squared_error')"
      ]
     },
     "execution_count": 80,
     "metadata": {},
     "output_type": "execute_result"
    }
   ],
   "source": [
    "grid_search.fit(X_train_tr, y_train)"
   ]
  },
  {
   "cell_type": "code",
   "execution_count": 82,
   "metadata": {},
   "outputs": [],
   "source": [
    "best_model = grid_search.best_estimator_"
   ]
  },
  {
   "cell_type": "code",
   "execution_count": 83,
   "metadata": {},
   "outputs": [
    {
     "name": "stdout",
     "output_type": "stream",
     "text": [
      "{'max_depth': 20, 'max_features': 6, 'n_estimators': 350}\n"
     ]
    }
   ],
   "source": [
    "best_parameters = grid_search.best_params_\n",
    "print(best_parameters)"
   ]
  },
  {
   "cell_type": "code",
   "execution_count": 87,
   "metadata": {},
   "outputs": [],
   "source": [
    "result = grid_search.cv_results_"
   ]
  },
  {
   "cell_type": "code",
   "execution_count": 89,
   "metadata": {},
   "outputs": [
    {
     "name": "stdout",
     "output_type": "stream",
     "text": [
      "['mean_fit_time', 'std_fit_time', 'mean_score_time', 'std_score_time', 'param_max_depth', 'param_max_features', 'param_n_estimators', 'params', 'split0_test_score', 'split1_test_score', 'split2_test_score', 'split3_test_score', 'split4_test_score', 'mean_test_score', 'std_test_score', 'rank_test_score', 'split0_train_score', 'split1_train_score', 'split2_train_score', 'split3_train_score', 'split4_train_score', 'mean_train_score', 'std_train_score']\n"
     ]
    }
   ],
   "source": [
    "print(list(result.keys()))"
   ]
  },
  {
   "cell_type": "code",
   "execution_count": null,
   "metadata": {},
   "outputs": [],
   "source": [
    "\n",
    "train_scores = np.round(np.sqrt(-result['mean_train_score']), 2)\n",
    "test_scores  = np.round(np.sqrt(-result['mean_test_score']), 2)\n",
    "parameters = result['params']\n",
    "\n",
    "\n",
    "scores = [ (tr, ts, pr) for tr, ts, pr in zip(train_scores, test_scores, parameters) ]\n"
   ]
  },
  {
   "cell_type": "markdown",
   "metadata": {},
   "source": [
    "#### some time the best is the model which is overfitting your data so you need select one model which is a good fit "
   ]
  },
  {
   "cell_type": "code",
   "execution_count": 117,
   "metadata": {},
   "outputs": [
    {
     "name": "stdout",
     "output_type": "stream",
     "text": [
      "|     |   Training Score   |      Test Score     | Parameters|\n",
      "______________________________________________________________________________________________________________\n",
      "\n",
      "|1    |      17983.05      |       47063.29      | {'max_depth': 20, 'max_features': 6, 'n_estimators': 350}|\n",
      "______________________________________________________________________________________________________________\n",
      "\n",
      "|2    |      17337.24      |       47078.25      | {'max_depth': 30, 'max_features': 6, 'n_estimators': 500}|\n",
      "______________________________________________________________________________________________________________\n",
      "\n",
      "|3    |      17438.27      |       47083.98      | {'max_depth': 30, 'max_features': 6, 'n_estimators': 200}|\n",
      "______________________________________________________________________________________________________________\n",
      "\n",
      "|4    |      18270.35      |       47093.29      | {'max_depth': 20, 'max_features': 4, 'n_estimators': 200}|\n",
      "______________________________________________________________________________________________________________\n",
      "\n",
      "|5    |      17378.26      |       47097.97      | {'max_depth': 30, 'max_features': 6, 'n_estimators': 350}|\n",
      "______________________________________________________________________________________________________________\n",
      "\n",
      "|6    |      17323.73      |       47098.8       | {'max_depth': 30, 'max_features': 4, 'n_estimators': 500}|\n",
      "______________________________________________________________________________________________________________\n",
      "\n",
      "|7    |      18160.13      |       47153.2       | {'max_depth': 20, 'max_features': 4, 'n_estimators': 500}|\n",
      "______________________________________________________________________________________________________________\n",
      "\n",
      "|8    |      17919.24      |       47164.68      | {'max_depth': 20, 'max_features': 6, 'n_estimators': 500}|\n",
      "______________________________________________________________________________________________________________\n",
      "\n",
      "|9    |      18050.62      |       47180.74      | {'max_depth': 20, 'max_features': 6, 'n_estimators': 200}|\n",
      "______________________________________________________________________________________________________________\n",
      "\n",
      "|10   |      17512.85      |       47205.35      | {'max_depth': 30, 'max_features': 4, 'n_estimators': 200}|\n",
      "______________________________________________________________________________________________________________\n",
      "\n",
      "|11   |      18214.79      |       47212.87      | {'max_depth': 20, 'max_features': 4, 'n_estimators': 350}|\n",
      "______________________________________________________________________________________________________________\n",
      "\n",
      "|12   |      17388.33      |       47218.6       | {'max_depth': 30, 'max_features': 4, 'n_estimators': 350}|\n",
      "______________________________________________________________________________________________________________\n",
      "\n",
      "|13   |      17943.44      |       47335.92      | {'max_depth': 30, 'max_features': 6, 'n_estimators': 60}|\n",
      "______________________________________________________________________________________________________________\n",
      "\n",
      "|14   |      17731.88      |       47358.61      | {'max_depth': 30, 'max_features': 4, 'n_estimators': 100}|\n",
      "______________________________________________________________________________________________________________\n",
      "\n",
      "|15   |      18501.56      |       47366.35      | {'max_depth': 20, 'max_features': 4, 'n_estimators': 100}|\n",
      "______________________________________________________________________________________________________________\n",
      "\n",
      "|16   |      17786.83      |       47392.69      | {'max_depth': 30, 'max_features': 6, 'n_estimators': 100}|\n",
      "______________________________________________________________________________________________________________\n",
      "\n",
      "|17   |      18257.56      |       47398.26      | {'max_depth': 20, 'max_features': 6, 'n_estimators': 100}|\n",
      "______________________________________________________________________________________________________________\n",
      "\n",
      "|18   |      18529.72      |       47443.94      | {'max_depth': 20, 'max_features': 6, 'n_estimators': 60}|\n",
      "______________________________________________________________________________________________________________\n",
      "\n",
      "|19   |      17979.95      |       47533.11      | {'max_depth': 30, 'max_features': 4, 'n_estimators': 60}|\n",
      "______________________________________________________________________________________________________________\n",
      "\n",
      "|20   |      18853.61      |       47692.75      | {'max_depth': 20, 'max_features': 4, 'n_estimators': 60}|\n",
      "______________________________________________________________________________________________________________\n",
      "\n",
      "|21   |      17884.81      |       48653.23      | {'max_depth': 30, 'max_features': 2, 'n_estimators': 500}|\n",
      "______________________________________________________________________________________________________________\n",
      "\n",
      "|22   |      17984.38      |       48656.06      | {'max_depth': 30, 'max_features': 2, 'n_estimators': 350}|\n",
      "______________________________________________________________________________________________________________\n",
      "\n",
      "|23   |      18076.82      |       48738.12      | {'max_depth': 30, 'max_features': 2, 'n_estimators': 200}|\n",
      "______________________________________________________________________________________________________________\n",
      "\n",
      "|24   |      19453.41      |       48759.48      | {'max_depth': 20, 'max_features': 2, 'n_estimators': 500}|\n",
      "______________________________________________________________________________________________________________\n",
      "\n",
      "|25   |      19523.85      |       48811.9       | {'max_depth': 20, 'max_features': 2, 'n_estimators': 350}|\n",
      "______________________________________________________________________________________________________________\n",
      "\n",
      "|26   |      19545.48      |       48826.92      | {'max_depth': 20, 'max_features': 2, 'n_estimators': 200}|\n",
      "______________________________________________________________________________________________________________\n",
      "\n",
      "|27   |      18435.15      |       48964.67      | {'max_depth': 30, 'max_features': 2, 'n_estimators': 100}|\n",
      "______________________________________________________________________________________________________________\n",
      "\n",
      "|28   |      19864.61      |       49164.59      | {'max_depth': 20, 'max_features': 2, 'n_estimators': 100}|\n",
      "______________________________________________________________________________________________________________\n",
      "\n",
      "|29   |      20242.36      |       49285.29      | {'max_depth': 20, 'max_features': 2, 'n_estimators': 60}|\n",
      "______________________________________________________________________________________________________________\n",
      "\n",
      "|30   |      18781.35      |       49511.27      | {'max_depth': 30, 'max_features': 2, 'n_estimators': 60}|\n",
      "______________________________________________________________________________________________________________\n",
      "\n",
      "|31   |      21406.17      |       50085.39      | {'max_depth': 30, 'max_features': 6, 'n_estimators': 10}|\n",
      "______________________________________________________________________________________________________________\n",
      "\n",
      "|32   |      21519.21      |       50178.06      | {'max_depth': 30, 'max_features': 4, 'n_estimators': 10}|\n",
      "______________________________________________________________________________________________________________\n",
      "\n",
      "|33   |      22130.54      |       50264.74      | {'max_depth': 20, 'max_features': 6, 'n_estimators': 10}|\n",
      "______________________________________________________________________________________________________________\n",
      "\n",
      "|34   |      22384.18      |       50315.31      | {'max_depth': 20, 'max_features': 4, 'n_estimators': 10}|\n",
      "______________________________________________________________________________________________________________\n",
      "\n",
      "|35   |      39773.16      |       50380.7       | {'max_depth': 10, 'max_features': 6, 'n_estimators': 350}|\n",
      "______________________________________________________________________________________________________________\n",
      "\n",
      "|36   |      39800.22      |       50381.16      | {'max_depth': 10, 'max_features': 6, 'n_estimators': 500}|\n",
      "______________________________________________________________________________________________________________\n",
      "\n",
      "|37   |      39830.47      |       50386.63      | {'max_depth': 10, 'max_features': 6, 'n_estimators': 200}|\n",
      "______________________________________________________________________________________________________________\n",
      "\n",
      "|38   |      40018.19      |       50553.14      | {'max_depth': 10, 'max_features': 6, 'n_estimators': 60}|\n",
      "______________________________________________________________________________________________________________\n",
      "\n",
      "|39   |      40035.01      |       50597.49      | {'max_depth': 10, 'max_features': 6, 'n_estimators': 100}|\n",
      "______________________________________________________________________________________________________________\n",
      "\n",
      "|40   |      41352.52      |       51133.05      | {'max_depth': 10, 'max_features': 4, 'n_estimators': 200}|\n",
      "______________________________________________________________________________________________________________\n",
      "\n",
      "|41   |      41389.23      |       51164.03      | {'max_depth': 10, 'max_features': 4, 'n_estimators': 350}|\n",
      "______________________________________________________________________________________________________________\n",
      "\n",
      "|42   |      41407.84      |       51235.13      | {'max_depth': 10, 'max_features': 4, 'n_estimators': 500}|\n",
      "______________________________________________________________________________________________________________\n",
      "\n",
      "|43   |      41606.96      |       51264.39      | {'max_depth': 10, 'max_features': 4, 'n_estimators': 100}|\n",
      "______________________________________________________________________________________________________________\n",
      "\n",
      "|44   |      41500.68      |       51483.1       | {'max_depth': 10, 'max_features': 4, 'n_estimators': 60}|\n",
      "______________________________________________________________________________________________________________\n",
      "\n",
      "|45   |      40678.6       |       51569.88      | {'max_depth': 10, 'max_features': 6, 'n_estimators': 10}|\n",
      "______________________________________________________________________________________________________________\n",
      "\n",
      "|46   |      22818.71      |       52514.37      | {'max_depth': 30, 'max_features': 2, 'n_estimators': 10}|\n",
      "______________________________________________________________________________________________________________\n",
      "\n",
      "|47   |      42720.72      |       52642.09      | {'max_depth': 10, 'max_features': 4, 'n_estimators': 10}|\n",
      "______________________________________________________________________________________________________________\n",
      "\n",
      "|48   |      24153.45      |       52760.58      | {'max_depth': 20, 'max_features': 2, 'n_estimators': 10}|\n",
      "______________________________________________________________________________________________________________\n",
      "\n",
      "|49   |      46525.69      |       55094.64      | {'max_depth': 10, 'max_features': 2, 'n_estimators': 500}|\n",
      "______________________________________________________________________________________________________________\n",
      "\n",
      "|50   |      46632.72      |       55267.49      | {'max_depth': 10, 'max_features': 2, 'n_estimators': 200}|\n",
      "______________________________________________________________________________________________________________\n",
      "\n",
      "|51   |      46660.7       |       55316.6       | {'max_depth': 10, 'max_features': 2, 'n_estimators': 350}|\n",
      "______________________________________________________________________________________________________________\n",
      "\n",
      "|52   |      46864.19      |       55530.64      | {'max_depth': 10, 'max_features': 2, 'n_estimators': 60}|\n",
      "______________________________________________________________________________________________________________\n",
      "\n",
      "|53   |      46940.39      |       55547.3       | {'max_depth': 10, 'max_features': 2, 'n_estimators': 100}|\n",
      "______________________________________________________________________________________________________________\n",
      "\n",
      "|54   |      48311.83      |       56741.17      | {'max_depth': 10, 'max_features': 2, 'n_estimators': 10}|\n",
      "______________________________________________________________________________________________________________\n",
      "\n",
      "|55   |      60462.0       |       61872.46      | {'max_depth': 5, 'max_features': 6, 'n_estimators': 100}|\n",
      "______________________________________________________________________________________________________________\n",
      "\n",
      "|56   |      60571.07      |       61940.78      | {'max_depth': 5, 'max_features': 6, 'n_estimators': 200}|\n",
      "______________________________________________________________________________________________________________\n",
      "\n",
      "|57   |      60573.56      |       62008.78      | {'max_depth': 5, 'max_features': 6, 'n_estimators': 350}|\n",
      "______________________________________________________________________________________________________________\n",
      "\n",
      "|58   |      60606.81      |       62030.11      | {'max_depth': 5, 'max_features': 6, 'n_estimators': 500}|\n",
      "______________________________________________________________________________________________________________\n",
      "\n",
      "|59   |      60734.66      |       62195.35      | {'max_depth': 5, 'max_features': 6, 'n_estimators': 60}|\n",
      "______________________________________________________________________________________________________________\n",
      "\n",
      "|60   |      61332.54      |       62675.11      | {'max_depth': 5, 'max_features': 6, 'n_estimators': 10}|\n",
      "______________________________________________________________________________________________________________\n",
      "\n",
      "|61   |      62780.82      |       64088.85      | {'max_depth': 5, 'max_features': 4, 'n_estimators': 350}|\n",
      "______________________________________________________________________________________________________________\n",
      "\n",
      "|62   |      62784.7       |       64104.66      | {'max_depth': 5, 'max_features': 4, 'n_estimators': 60}|\n",
      "______________________________________________________________________________________________________________\n",
      "\n",
      "|63   |      62796.91      |       64107.06      | {'max_depth': 5, 'max_features': 4, 'n_estimators': 500}|\n",
      "______________________________________________________________________________________________________________\n",
      "\n",
      "|64   |      62928.69      |       64236.08      | {'max_depth': 5, 'max_features': 4, 'n_estimators': 200}|\n",
      "______________________________________________________________________________________________________________\n",
      "\n",
      "|65   |      62958.24      |       64259.43      | {'max_depth': 5, 'max_features': 4, 'n_estimators': 100}|\n",
      "______________________________________________________________________________________________________________\n",
      "\n",
      "|66   |      64405.02      |       65593.94      | {'max_depth': 5, 'max_features': 4, 'n_estimators': 10}|\n",
      "______________________________________________________________________________________________________________\n",
      "\n",
      "|67   |      69598.14      |       70826.96      | {'max_depth': 5, 'max_features': 2, 'n_estimators': 100}|\n",
      "______________________________________________________________________________________________________________\n",
      "\n",
      "|68   |      69653.5       |       70841.93      | {'max_depth': 5, 'max_features': 2, 'n_estimators': 500}|\n",
      "______________________________________________________________________________________________________________\n",
      "\n",
      "|69   |      69708.63      |       70884.9       | {'max_depth': 5, 'max_features': 2, 'n_estimators': 350}|\n",
      "______________________________________________________________________________________________________________\n",
      "\n",
      "|70   |      69714.68      |       70906.81      | {'max_depth': 5, 'max_features': 2, 'n_estimators': 200}|\n",
      "______________________________________________________________________________________________________________\n",
      "\n",
      "|71   |      69906.54      |       71170.38      | {'max_depth': 5, 'max_features': 2, 'n_estimators': 60}|\n",
      "______________________________________________________________________________________________________________\n",
      "\n",
      "|72   |      70433.19      |       71632.17      | {'max_depth': 5, 'max_features': 2, 'n_estimators': 10}|\n",
      "______________________________________________________________________________________________________________\n",
      "\n"
     ]
    }
   ],
   "source": [
    "strformat = \"|{:<5}|{:^20}| {:^20}| {}|\\n{}\\n\"\n",
    "lb =  '_'*110\n",
    "print(strformat.format(\"\", \"Training Score\", \"Test Score\", \"Parameters\", lb))\n",
    "for ix, (tr, ts, pr) in enumerate(scores):\n",
    "    print(strformat.format(ix+1, tr, ts, pr, lb))\n",
    "    "
   ]
  },
  {
   "cell_type": "code",
   "execution_count": 114,
   "metadata": {},
   "outputs": [],
   "source": [
    "scores.sort(key=lambda x: x[1]) # [ ( train_error, test_error, params  ), ( ) ]"
   ]
  },
  {
   "cell_type": "code",
   "execution_count": 116,
   "metadata": {},
   "outputs": [
    {
     "name": "stdout",
     "output_type": "stream",
     "text": [
      "Top 10 Models\n",
      "|     |   Training Score   |      Test Score     | Parameters|\n",
      "______________________________________________________________________________________________________________\n",
      "\n",
      "|1    |      17983.05      |       47063.29      | {'max_depth': 20, 'max_features': 6, 'n_estimators': 350}|\n",
      "______________________________________________________________________________________________________________\n",
      "\n",
      "|2    |      17337.24      |       47078.25      | {'max_depth': 30, 'max_features': 6, 'n_estimators': 500}|\n",
      "______________________________________________________________________________________________________________\n",
      "\n",
      "|3    |      17438.27      |       47083.98      | {'max_depth': 30, 'max_features': 6, 'n_estimators': 200}|\n",
      "______________________________________________________________________________________________________________\n",
      "\n",
      "|4    |      18270.35      |       47093.29      | {'max_depth': 20, 'max_features': 4, 'n_estimators': 200}|\n",
      "______________________________________________________________________________________________________________\n",
      "\n",
      "|5    |      17378.26      |       47097.97      | {'max_depth': 30, 'max_features': 6, 'n_estimators': 350}|\n",
      "______________________________________________________________________________________________________________\n",
      "\n",
      "|6    |      17323.73      |       47098.8       | {'max_depth': 30, 'max_features': 4, 'n_estimators': 500}|\n",
      "______________________________________________________________________________________________________________\n",
      "\n",
      "|7    |      18160.13      |       47153.2       | {'max_depth': 20, 'max_features': 4, 'n_estimators': 500}|\n",
      "______________________________________________________________________________________________________________\n",
      "\n",
      "|8    |      17919.24      |       47164.68      | {'max_depth': 20, 'max_features': 6, 'n_estimators': 500}|\n",
      "______________________________________________________________________________________________________________\n",
      "\n",
      "|9    |      18050.62      |       47180.74      | {'max_depth': 20, 'max_features': 6, 'n_estimators': 200}|\n",
      "______________________________________________________________________________________________________________\n",
      "\n",
      "|10   |      17512.85      |       47205.35      | {'max_depth': 30, 'max_features': 4, 'n_estimators': 200}|\n",
      "______________________________________________________________________________________________________________\n",
      "\n"
     ]
    }
   ],
   "source": [
    "print(\"Top 10 Models\")\n",
    "strformat = \"|{:<5}|{:^20}| {:^20}| {}|\\n{}\\n\"\n",
    "lb =  '_'*110\n",
    "print(strformat.format(\"\", \"Training Score\", \"Test Score\", \"Parameters\", lb))\n",
    "for ix, (tr, ts, pr) in enumerate(scores[:10]):\n",
    "    print(strformat.format(ix+1, tr, ts, pr, lb))\n",
    "    "
   ]
  },
  {
   "cell_type": "markdown",
   "metadata": {},
   "source": [
    "#### Bottom 10 Model Performance "
   ]
  },
  {
   "cell_type": "code",
   "execution_count": 118,
   "metadata": {},
   "outputs": [
    {
     "name": "stdout",
     "output_type": "stream",
     "text": [
      "Top 10 Models\n",
      "|     |   Training Score   |      Test Score     | Parameters|\n",
      "______________________________________________________________________________________________________________\n",
      "\n",
      "|1    |      62796.91      |       64107.06      | {'max_depth': 5, 'max_features': 4, 'n_estimators': 500}|\n",
      "______________________________________________________________________________________________________________\n",
      "\n",
      "|2    |      62928.69      |       64236.08      | {'max_depth': 5, 'max_features': 4, 'n_estimators': 200}|\n",
      "______________________________________________________________________________________________________________\n",
      "\n",
      "|3    |      62958.24      |       64259.43      | {'max_depth': 5, 'max_features': 4, 'n_estimators': 100}|\n",
      "______________________________________________________________________________________________________________\n",
      "\n",
      "|4    |      64405.02      |       65593.94      | {'max_depth': 5, 'max_features': 4, 'n_estimators': 10}|\n",
      "______________________________________________________________________________________________________________\n",
      "\n",
      "|5    |      69598.14      |       70826.96      | {'max_depth': 5, 'max_features': 2, 'n_estimators': 100}|\n",
      "______________________________________________________________________________________________________________\n",
      "\n",
      "|6    |      69653.5       |       70841.93      | {'max_depth': 5, 'max_features': 2, 'n_estimators': 500}|\n",
      "______________________________________________________________________________________________________________\n",
      "\n",
      "|7    |      69708.63      |       70884.9       | {'max_depth': 5, 'max_features': 2, 'n_estimators': 350}|\n",
      "______________________________________________________________________________________________________________\n",
      "\n",
      "|8    |      69714.68      |       70906.81      | {'max_depth': 5, 'max_features': 2, 'n_estimators': 200}|\n",
      "______________________________________________________________________________________________________________\n",
      "\n",
      "|9    |      69906.54      |       71170.38      | {'max_depth': 5, 'max_features': 2, 'n_estimators': 60}|\n",
      "______________________________________________________________________________________________________________\n",
      "\n",
      "|10   |      70433.19      |       71632.17      | {'max_depth': 5, 'max_features': 2, 'n_estimators': 10}|\n",
      "______________________________________________________________________________________________________________\n",
      "\n"
     ]
    }
   ],
   "source": [
    "print(\"Top 10 Models\")\n",
    "strformat = \"|{:<5}|{:^20}| {:^20}| {}|\\n{}\\n\"\n",
    "lb =  '_'*110\n",
    "print(strformat.format(\"\", \"Training Score\", \"Test Score\", \"Parameters\", lb))\n",
    "for ix, (tr, ts, pr) in enumerate(scores[-10:]):\n",
    "    print(strformat.format(ix+1, tr, ts, pr, lb))\n",
    "    "
   ]
  },
  {
   "cell_type": "code",
   "execution_count": null,
   "metadata": {},
   "outputs": [],
   "source": []
  },
  {
   "cell_type": "markdown",
   "metadata": {},
   "source": [
    "### using Score R2 score"
   ]
  },
  {
   "cell_type": "code",
   "execution_count": 122,
   "metadata": {},
   "outputs": [
    {
     "data": {
      "text/plain": [
       "0.8338244799167276"
      ]
     },
     "execution_count": 122,
     "metadata": {},
     "output_type": "execute_result"
    }
   ],
   "source": [
    "grid_search."
   ]
  },
  {
   "cell_type": "code",
   "execution_count": 123,
   "metadata": {},
   "outputs": [
    {
     "data": {
      "text/plain": [
       "{'max_depth': 30, 'max_features': 6, 'n_estimators': 350}"
      ]
     },
     "execution_count": 123,
     "metadata": {},
     "output_type": "execute_result"
    }
   ],
   "source": [
    "grid_search.best_params_"
   ]
  },
  {
   "cell_type": "code",
   "execution_count": 186,
   "metadata": {},
   "outputs": [
    {
     "data": {
      "text/plain": [
       "GridSearchCV(cv=5, estimator=RandomForestRegressor(),\n",
       "             param_grid=[{'max_depth': [5, 10, 20, 40, 50],\n",
       "                          'max_features': [2, 4, 6],\n",
       "                          'n_estimators': [50, 100, 200, 300],\n",
       "                          'n_jobs': [-1]}],\n",
       "             return_train_score=True, scoring='r2')"
      ]
     },
     "execution_count": 186,
     "metadata": {},
     "output_type": "execute_result"
    }
   ],
   "source": [
    "param_grid = [\n",
    "    {\n",
    "        'n_estimators': [ 50, 100, 200, 300  ],\n",
    "        'max_depth': [ 5, 10, 20, 40, 50 ],\n",
    "        'max_features': [ 2, 4, 6],\n",
    "        'n_jobs': [-1]\n",
    "    }, \n",
    "    \n",
    "]\n",
    "\n",
    "grid_search = GridSearchCV(RandomForestRegressor(), param_grid, cv=5,\n",
    "                      scoring=\"r2\", return_train_score=True)\n",
    "\n",
    "grid_search.fit(X_train_tr, y_train)\n",
    "\n",
    "\n"
   ]
  },
  {
   "cell_type": "code",
   "execution_count": 191,
   "metadata": {},
   "outputs": [
    {
     "name": "stdout",
     "output_type": "stream",
     "text": [
      "Best Parameters :  {'max_depth': 40, 'max_features': 6, 'n_estimators': 200, 'n_jobs': -1}\n"
     ]
    }
   ],
   "source": [
    "print(\"Best Parameters : \", grid_search.best_params_)"
   ]
  },
  {
   "cell_type": "code",
   "execution_count": 193,
   "metadata": {},
   "outputs": [
    {
     "name": "stdout",
     "output_type": "stream",
     "text": [
      "Best Score:  0.8334240372719499\n"
     ]
    }
   ],
   "source": [
    "print(\"Best Score: \", grid_search.best_score_)"
   ]
  },
  {
   "cell_type": "code",
   "execution_count": null,
   "metadata": {},
   "outputs": [],
   "source": []
  },
  {
   "cell_type": "code",
   "execution_count": 187,
   "metadata": {},
   "outputs": [
    {
     "name": "stdout",
     "output_type": "stream",
     "text": [
      "|     |   Training Score   |      Test Score     | Parameters|\n",
      "______________________________________________________________________________________________________________\n",
      "\n",
      "|1    |        0.97        |         0.83        | {'max_depth': 20, 'max_features': 4, 'n_estimators': 50, 'n_jobs': -1}|\n",
      "______________________________________________________________________________________________________________\n",
      "\n",
      "|2    |        0.97        |         0.83        | {'max_depth': 20, 'max_features': 4, 'n_estimators': 100, 'n_jobs': -1}|\n",
      "______________________________________________________________________________________________________________\n",
      "\n",
      "|3    |        0.97        |         0.83        | {'max_depth': 20, 'max_features': 4, 'n_estimators': 200, 'n_jobs': -1}|\n",
      "______________________________________________________________________________________________________________\n",
      "\n",
      "|4    |        0.98        |         0.83        | {'max_depth': 20, 'max_features': 4, 'n_estimators': 300, 'n_jobs': -1}|\n",
      "______________________________________________________________________________________________________________\n",
      "\n",
      "|5    |        0.97        |         0.83        | {'max_depth': 20, 'max_features': 6, 'n_estimators': 50, 'n_jobs': -1}|\n",
      "______________________________________________________________________________________________________________\n",
      "\n",
      "|6    |        0.97        |         0.83        | {'max_depth': 20, 'max_features': 6, 'n_estimators': 100, 'n_jobs': -1}|\n",
      "______________________________________________________________________________________________________________\n",
      "\n",
      "|7    |        0.98        |         0.83        | {'max_depth': 20, 'max_features': 6, 'n_estimators': 200, 'n_jobs': -1}|\n",
      "______________________________________________________________________________________________________________\n",
      "\n",
      "|8    |        0.98        |         0.83        | {'max_depth': 20, 'max_features': 6, 'n_estimators': 300, 'n_jobs': -1}|\n",
      "______________________________________________________________________________________________________________\n",
      "\n",
      "|9    |        0.98        |         0.83        | {'max_depth': 40, 'max_features': 4, 'n_estimators': 50, 'n_jobs': -1}|\n",
      "______________________________________________________________________________________________________________\n",
      "\n",
      "|10   |        0.98        |         0.83        | {'max_depth': 40, 'max_features': 4, 'n_estimators': 100, 'n_jobs': -1}|\n",
      "______________________________________________________________________________________________________________\n",
      "\n"
     ]
    }
   ],
   "source": [
    "result = grid_search.cv_results_\n",
    "\n",
    "\n",
    "\n",
    "train_scores = np.round(result['mean_train_score'], 2)\n",
    "test_scores  = np.round(result['mean_test_score'], 2)\n",
    "parameters = result['params']\n",
    "\n",
    "\n",
    "scores = [ (tr, ts, pr) for tr, ts, pr in zip(train_scores, test_scores, parameters) ]\n",
    "\n",
    "scores.sort(key=lambda x:x[1], reverse=True)\n",
    "\n",
    "strformat = \"|{:<5}|{:^20}| {:^20}| {}|\\n{}\\n\"\n",
    "lb =  '_'*110\n",
    "print(strformat.format(\"\", \"Training Score\", \"Test Score\", \"Parameters\", lb))\n",
    "for ix, (tr, ts, pr) in enumerate(scores[:10]):\n",
    "    print(strformat.format(ix+1, tr, ts, pr, lb))\n",
    "    "
   ]
  },
  {
   "cell_type": "markdown",
   "metadata": {},
   "source": [
    "#### Bottom 10 Model Performance "
   ]
  },
  {
   "cell_type": "code",
   "execution_count": 195,
   "metadata": {},
   "outputs": [
    {
     "name": "stdout",
     "output_type": "stream",
     "text": [
      "|     |   Training Score   |      Test Score     | Parameters|\n",
      "______________________________________________________________________________________________________________\n",
      "\n",
      "|1    |        0.72        |         0.71        | {'max_depth': 5, 'max_features': 6, 'n_estimators': 200, 'n_jobs': -1}|\n",
      "______________________________________________________________________________________________________________\n",
      "\n",
      "|2    |        0.72        |         0.71        | {'max_depth': 5, 'max_features': 6, 'n_estimators': 300, 'n_jobs': -1}|\n",
      "______________________________________________________________________________________________________________\n",
      "\n",
      "|3    |        0.7         |         0.69        | {'max_depth': 5, 'max_features': 4, 'n_estimators': 50, 'n_jobs': -1}|\n",
      "______________________________________________________________________________________________________________\n",
      "\n",
      "|4    |        0.7         |         0.69        | {'max_depth': 5, 'max_features': 4, 'n_estimators': 100, 'n_jobs': -1}|\n",
      "______________________________________________________________________________________________________________\n",
      "\n",
      "|5    |        0.7         |         0.69        | {'max_depth': 5, 'max_features': 4, 'n_estimators': 200, 'n_jobs': -1}|\n",
      "______________________________________________________________________________________________________________\n",
      "\n",
      "|6    |        0.71        |         0.69        | {'max_depth': 5, 'max_features': 4, 'n_estimators': 300, 'n_jobs': -1}|\n",
      "______________________________________________________________________________________________________________\n",
      "\n",
      "|7    |        0.63        |         0.62        | {'max_depth': 5, 'max_features': 2, 'n_estimators': 100, 'n_jobs': -1}|\n",
      "______________________________________________________________________________________________________________\n",
      "\n",
      "|8    |        0.63        |         0.62        | {'max_depth': 5, 'max_features': 2, 'n_estimators': 200, 'n_jobs': -1}|\n",
      "______________________________________________________________________________________________________________\n",
      "\n",
      "|9    |        0.64        |         0.62        | {'max_depth': 5, 'max_features': 2, 'n_estimators': 300, 'n_jobs': -1}|\n",
      "______________________________________________________________________________________________________________\n",
      "\n",
      "|10   |        0.62        |         0.61        | {'max_depth': 5, 'max_features': 2, 'n_estimators': 50, 'n_jobs': -1}|\n",
      "______________________________________________________________________________________________________________\n",
      "\n"
     ]
    }
   ],
   "source": [
    "strformat = \"|{:<5}|{:^20}| {:^20}| {}|\\n{}\\n\"\n",
    "lb =  '_'*110\n",
    "print(strformat.format(\"\", \"Training Score\", \"Test Score\", \"Parameters\", lb))\n",
    "for ix, (tr, ts, pr) in enumerate(scores[-10:]):\n",
    "    print(strformat.format(ix+1, tr, ts, pr, lb))\n",
    "    "
   ]
  },
  {
   "cell_type": "code",
   "execution_count": 206,
   "metadata": {},
   "outputs": [
    {
     "data": {
      "image/png": "[encoded data removed]",
      "text/plain": [
       "<Figure size 1200x800 with 1 Axes>"
      ]
     },
     "metadata": {
      "needs_background": "light"
     },
     "output_type": "display_data"
    }
   ],
   "source": [
    "x_lb = list(range(len(train_scores)))\n",
    "plt.figure(dpi=200)\n",
    "\n",
    "plt.plot(x_lb, train_scores, 'r:', label=\"Training Accuracy\")\n",
    "plt.plot(x_lb, test_scores, 'g:', label=\"Test Accuracy\")\n",
    "plt.legend()\n",
    "plt.xlabel(\"Model Number\")\n",
    "plt.ylabel(\"Accuracy\")\n",
    "\n",
    "ax = plt.gca()\n",
    "\n",
    "ax.annotate('Overfitting', xy=(25, .85), xycoords='data',\n",
    "           xytext=(40, 0.95),  arrowprops=dict(facecolor='black', width=1),\n",
    "       horizontalalignment='right', verticalalignment='top',)\n",
    "\n",
    "ax.annotate('Good Fit', xy=(10, .77), xycoords='data',\n",
    "           xytext=(5, 0.85),  arrowprops=dict(facecolor='red', width=0.4),\n",
    "       horizontalalignment='right', verticalalignment='top',)\n",
    "\n",
    "plt.grid(ls='--', alpha=0.2)\n",
    "plt.show()"
   ]
  },
  {
   "cell_type": "markdown",
   "metadata": {},
   "source": [
    "### Random Forest Model also provides Feture importance\n",
    "\n",
    "    so you can drop some of useless features using feature engineering"
   ]
  },
  {
   "cell_type": "code",
   "execution_count": 208,
   "metadata": {},
   "outputs": [],
   "source": [
    "best_model = grid_search.best_estimator_"
   ]
  },
  {
   "cell_type": "code",
   "execution_count": 211,
   "metadata": {},
   "outputs": [],
   "source": [
    "test_pred = best_model.predict(X_test_tr)\n",
    "test_error = np.sqrt(mean_squared_error(y_test, test_pred))"
   ]
  },
  {
   "cell_type": "code",
   "execution_count": 213,
   "metadata": {},
   "outputs": [
    {
     "name": "stdout",
     "output_type": "stream",
     "text": [
      "Final Test Error : 44324.36\n",
      "Final Test Accuracy: 0.85\n"
     ]
    }
   ],
   "source": [
    "print(f\"Final Test Error : {test_error:0.2f}\")\n",
    "print(f\"Final Test Accuracy: {r2_score(y_test, test_pred):0.2f}\") # 83 / 85 -> 15 % Generalize "
   ]
  },
  {
   "cell_type": "code",
   "execution_count": 214,
   "metadata": {},
   "outputs": [
    {
     "data": {
      "text/plain": [
       "array([5.77994913e-02, 5.91730117e-02, 3.49691090e-02, 1.78241212e-02,\n",
       "       1.52210235e-02, 1.68997756e-02, 1.50483735e-02, 3.05741041e-01,\n",
       "       1.91866625e-01, 1.01082026e-01, 9.42053686e-02, 8.89713870e-03,\n",
       "       7.69048239e-02, 1.37190620e-04, 1.98852191e-03, 2.24235855e-03])"
      ]
     },
     "execution_count": 214,
     "metadata": {},
     "output_type": "execute_result"
    }
   ],
   "source": [
    "best_model.feature_importances_ # Random Forest"
   ]
  },
  {
   "cell_type": "code",
   "execution_count": 220,
   "metadata": {},
   "outputs": [
    {
     "data": {
      "text/plain": [
       "['<1H OCEAN', 'INLAND', 'ISLAND', 'NEAR BAY', 'NEAR OCEAN']"
      ]
     },
     "execution_count": 220,
     "metadata": {},
     "output_type": "execute_result"
    }
   ],
   "source": [
    "cat_tr = final_pipeline.named_transformers_['categorical pipeline']\n"
   ]
  },
  {
   "cell_type": "code",
   "execution_count": 221,
   "metadata": {},
   "outputs": [],
   "source": [
    "cat = list(cat_tr.categories_[0])\n",
    "features = num_features + [ \"longitute+latitude\", \"household_per_population\", \"bedrooms_per_rooms\"] + cat"
   ]
  },
  {
   "cell_type": "code",
   "execution_count": 227,
   "metadata": {},
   "outputs": [],
   "source": [
    "feature_importance  = [ (f, i) for f, i in zip(features, best_model.feature_importances_)]\n",
    "feature_importance.sort(key=lambda x:x[1], reverse=True)"
   ]
  },
  {
   "cell_type": "code",
   "execution_count": 229,
   "metadata": {},
   "outputs": [
    {
     "name": "stdout",
     "output_type": "stream",
     "text": [
      "                 MEDIAN_INCOME = 0.31\n",
      "            LONGITUTE+LATITUDE = 0.19\n",
      "      HOUSEHOLD_PER_POPULATION = 0.10\n",
      "            BEDROOMS_PER_ROOMS = 0.09\n",
      "                        INLAND = 0.08\n",
      "                      LATITUDE = 0.06\n",
      "                     LONGITUDE = 0.06\n",
      "            HOUSING_MEDIAN_AGE = 0.03\n",
      "                   TOTAL_ROOMS = 0.02\n",
      "                    POPULATION = 0.02\n",
      "                TOTAL_BEDROOMS = 0.02\n",
      "                    HOUSEHOLDS = 0.02\n",
      "                     <1H OCEAN = 0.01\n",
      "                    NEAR OCEAN = 0.00\n",
      "                      NEAR BAY = 0.00\n",
      "                        ISLAND = 0.00\n"
     ]
    }
   ],
   "source": [
    "for feature, importance in feature_importance:\n",
    "    print(f\"{feature.upper():>30} = {importance:.2f}\")"
   ]
  },
  {
   "cell_type": "markdown",
   "metadata": {},
   "source": [
    "    So you can drop all other categories except than INLAND "
   ]
  },
  {
   "cell_type": "markdown",
   "metadata": {},
   "source": [
    "#### Doubts"
   ]
  },
  {
   "cell_type": "code",
   "execution_count": null,
   "metadata": {},
   "outputs": [],
   "source": [
    "from sklearnearnearnearnearnearnearnearnearnearn.model_selection import RandomizedSearchCV\n",
    "from sklearn.liner_model import SGDRegressor\n",
    "\n",
    "# eta = 0.01, 0.2, 0.5, 10, 0.89\n",
    "# alpha = 0.1, 0.4, 0.8, 1\n",
    "param_grid = [\n",
    "    { 'eta': np.random.uniform(0, 10, 100),\n",
    "      'alpha': np.radom.uniform(0, 1, 100)\n",
    "    }\n",
    "]"
   ]
  },
  {
   "cell_type": "markdown",
   "metadata": {},
   "source": [
    "### Tomorrow \n",
    "\n",
    "    Gradient Descent Algorithm\n",
    "    \n",
    "    Regularization \n",
    "    \n",
    "        Lasso Regression\n",
    "        \n",
    "        Ridge Regression\n",
    "        \n",
    "        Elastic Net\n",
    "        \n",
    "    Classification\n",
    "    \n",
    "        Logistic Regression"
   ]
  },
  {
   "cell_type": "code",
   "execution_count": null,
   "metadata": {},
   "outputs": [],
   "source": []
  }
 ],
 "metadata": {
  "kernelspec": {
   "display_name": "Python 3",
   "language": "python",
   "name": "python3"
  },
  "language_info": {
   "codemirror_mode": {
    "name": "ipython",
    "version": 3
   },
   "file_extension": ".py",
   "mimetype": "text/x-python",
   "name": "python",
   "nbconvert_exporter": "python",
   "pygments_lexer": "ipython3",
   "version": "3.8.3"
  }
 },
 "nbformat": 4,
 "nbformat_minor": 4
}
